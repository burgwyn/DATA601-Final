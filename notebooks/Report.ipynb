{
 "cells": [
  {
   "cell_type": "markdown",
   "metadata": {},
   "source": [
    "# Classifying Parking Tickets in Washington, DC - 2018\n",
    "\n",
    "__Enter Subtitle here if any__"
   ]
  },
  {
   "cell_type": "markdown",
   "metadata": {},
   "source": [
    "# Overview\n",
    "\n",
    "__What?__\n",
    "\n",
    "This study intends to leverage parking violation data from 2018 to build a classifier model to identify the likelihood of a parking ticket at a given location, date and time in Washington, DC.\n",
    "\n",
    "__When?__\n",
    "\n",
    "- Tell us when and how you will determine that this project is successful (metrics)\n",
    "\n",
    "__Why?__\n",
    "\n",
    "Parking tickets are nuisance for drivers; an unexpected expense.\n",
    "\n",
    "__Who?__\n",
    "\n",
    "The project is interesting for citizen data sciences and anyone who is curious about understanding how their government operates.\n",
    "\n",
    "__Background and Research__\n",
    "\n",
    "Parking violations, along with other civic matters, have been the subject of prior research.\n",
    "\n",
    "- \"[How to Do a Data Science Project That Is Actually Useful - Like avoiding parking tickets in Vancouver!](https://medium.com/analytics-vidhya/how-to-do-a-data-science-project-that-is-actually-useful-ba28a4360a4)\", Parampaul Nahal\n",
    "- \"[Predicting the spatiotemporal legality of on-street parking using open data and machine learning](https://www.tandfonline.com/doi/full/10.1080/19475683.2019.1679882)\" - Song Gao, Mingxiao Li, Yunlei Liang, Joseph Marks,Yuhao Kang, Moying Li\n"
   ]
  },
  {
   "cell_type": "markdown",
   "metadata": {},
   "source": [
    "\n",
    "# Get the Data\n",
    "\n",
    "__Who?__\n",
    "\n",
    "The data sets are provided by the government through their [open data portal](https://opendata.dc.gov/).\n",
    "\n",
    "__When?__\n",
    "\n",
    "The dataset is retrieved via a search of a RESTful API.  The data retrieval is made through requests using the `requests` library.  The download is managed in `scripts\\main.py`\n",
    "\n",
    "__What?__\n",
    "\n",
    "- What is data look like? \n",
    "- Number of columns, rows, missing values\n",
    "- Size of the data\n",
    "\n",
    "__Links__\n",
    "\n",
    "- Sample dataset - [Parking Violations Issued in August 2018](https://opendata.dc.gov/datasets/parking-violations-issued-in-august-2018)\n",
    "\n",
    "- Data dictionary\n",
    "\n",
    "| Column Name | Type |\n",
    "|---|---|\n",
    "| DISPOSITION_CODE | Number |\n",
    "| DISPOSITION_DATE | Date or Time |\n",
    "| DISPOSITION_DESC | Text |\n",
    "| DISPOSITION_TYPE | Text |\n",
    "| FINE_AMOUNT | Number |\n",
    "| GIS_LAST_MOD_DTTM | Date or Time |\n",
    "| ISSUE_DATE | Date or Time |\n",
    "| ISSUE_TIME | Text |\n",
    "| ISSUING_AGENCY_CODE | Number |\n",
    "| ISSUING_AGENCY_NAME | Text |\n",
    "| ISSUING_AGENCY_SHORT | Text |\n",
    "| LATITUDE | Number |\n",
    "| LOCATION | Text |\n",
    "| LONGITUDE | Number |\n",
    "| MAR_ID | Number |\n",
    "| MULTI_OWNER_NUMBER | Text |\n",
    "| OBJECTID | Unique ID |\n",
    "| PENALTY_1 | Number |\n",
    "| PENALTY_2 | Number |\n",
    "| PENALTY_3 | Number |\n",
    "| PENALTY_4 | Number |\n",
    "| PENALTY_5 | Number |\n",
    "| PLATE_STATE | Text |\n",
    "| TOTAL_PAID | Number |\n",
    "| VEHICLE_TYPE | Text |\n",
    "| VIOLATION_CODE | Text |\n",
    "| VIOLATION_PROC_DESC | Text |\n",
    "| XCOORD | Number |\n",
    "| YCOORD | Number |\n",
    "\n",
    "__Connect__\n",
    "\n",
    "This is supervised learning problem, targeting a custom column, `DISPOSITION_RESULT`, which is a binary value indicating whether a ticket was issued.  The columns for the assessment are:\n",
    "\n",
    "| Column Name | Type | Custom |\n",
    "|---|---|\n",
    "| LATITUDE | Number | No |\n",
    "| LONGITUDE | Number | No |\n",
    "| DAY_OF_MONTH | Number | Yes |\n",
    "| HOUR | Number | Yes |\n",
    "\n"
   ]
  },
  {
   "cell_type": "markdown",
   "metadata": {},
   "source": [
    "# Explore the Data"
   ]
  },
  {
   "cell_type": "markdown",
   "metadata": {},
   "source": [
    "- Show us the head of the data, shape of the data.\n",
    "\n",
    "- Missing values, data types, distributions, interesting statistics, etc. \n",
    "\n",
    "- You don't have to show us all the code here but make sure that the work you show us here is connected to the problem you are trying to solve. \n",
    "\n",
    "- Don't share a scrape book with me.\n",
    "\n",
    "- If you are showing a plot make sure that there is a title, axes are labeled and you explained why you are showing me this plot (it's connection to the problem and solution).\n",
    "\n",
    "- If you are working with a supervised learning problem, talk about the target variable. It's distribution, class imbalance etc.\n"
   ]
  },
  {
   "cell_type": "markdown",
   "metadata": {},
   "source": [
    "# Prepare Data\n",
    "\n",
    "- Don't change the original dataset\n",
    "\n",
    "- Don't necessarily show me the functions you wrote. \n",
    "\n",
    "- Use utils.py script and call the utility functions if necessary.\n",
    "\n",
    "- Explain don't show and only mention a work if it is relevant for the later parts of the project."
   ]
  },
  {
   "cell_type": "markdown",
   "metadata": {},
   "source": [
    "# Modeling\n",
    "\n",
    "## What models do you use and why?\n",
    "\n",
    "This was a classification problem, so a number of classification algorithms were used:\n",
    "\n",
    "- LogisticRegression\n",
    "- PassiveAggressiveClassifier\n",
    "- DecisionTreeClassifier\n",
    "- RidgeClassifier\n",
    "- RandomForestClassifier\n",
    "- AdaBoostClassifier\n",
    "- MLPClassifier\n",
    "\n",
    "- What is a good baseline?\n",
    "\n",
    "- Which metric you will be focusing on, why?"
   ]
  },
  {
   "cell_type": "markdown",
   "metadata": {},
   "source": [
    "# Fine Tune \n",
    "\n",
    "- Make sure that you played with the hyper-parameters and fine-tuned the parameters.\n",
    "\n",
    "- Use grid search, cross validation to compare different models. \n",
    "\n",
    "- Don't show all of your work here only mention if it is necessary to understand you work's results."
   ]
  },
  {
   "cell_type": "markdown",
   "metadata": {},
   "source": [
    "# Present Your Solution\n",
    "\n",
    "\n",
    "- What are your results? Why? \n",
    "\n",
    "- You must connect this part to the original business problem.\n",
    "\n",
    "- How certain are you of your results?\n",
    "\n",
    "## Limitations\n",
    "\n",
    "The available datasets represent close to a decade of available data, although not every data set is usable, with many in 2019 and beyond lacking clear date and time values.  The modelling dataset could have been larger, but I chose to focus on a single year to manage performance.\n",
    "\n",
    "I elected classify parking violations based on whether they stood versus if they were dispositioned, ie rejected.  Another dimension that could have been used was the issuing agency, which would change the study to reflect \"who wrote this ticket?\".\n",
    "\n",
    "Finally, there was a financial dimension that was available for study.  This would change the perspective from a driver wondering \"what is the likelihood that I will get a ticket?\" to that of an issuing agency looking to maximize revenue from parking tickets.  As a citizen and a frequent recipient of parking violations I have ethical concerns about creating this kind of model.\n",
    "\n",
    "- Compared to others' work in this field, how is your result? Above expectations? Why? Below expectations? Why?\n",
    "\n"
   ]
  }
 ],
 "metadata": {
  "kernelspec": {
   "display_name": "Python 3",
   "language": "python",
   "name": "python3"
  },
  "language_info": {
   "codemirror_mode": {
    "name": "ipython",
    "version": 3
   },
   "file_extension": ".py",
   "mimetype": "text/x-python",
   "name": "python",
   "nbconvert_exporter": "python",
   "pygments_lexer": "ipython3",
   "version": "3.8.3"
  },
  "toc": {
   "base_numbering": 1,
   "nav_menu": {},
   "number_sections": true,
   "sideBar": true,
   "skip_h1_title": false,
   "title_cell": "Table of Contents",
   "title_sidebar": "Contents",
   "toc_cell": false,
   "toc_position": {},
   "toc_section_display": true,
   "toc_window_display": false
  }
 },
 "nbformat": 4,
 "nbformat_minor": 4
}