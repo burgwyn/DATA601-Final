{
 "cells": [
  {
   "cell_type": "code",
   "execution_count": 58,
   "metadata": {},
   "outputs": [],
   "source": [
    "# load pandas for data analysis\n",
    "import pandas as pd\n",
    "\n",
    "# load dataset\n",
    "parking_violations = pd.read_csv('../data/sample/Parking_Violations_Issued_in_August_2018.csv')"
   ]
  },
  {
   "cell_type": "code",
   "execution_count": 59,
   "metadata": {},
   "outputs": [
    {
     "data": {
      "text/plain": "   OBJECTID              ISSUE_DATE ISSUE_TIME  ISSUING_AGENCY_CODE  \\\n0    290490  2018/08/24 04:00:00+00   01:44 AM                    7   \n1    290491  2018/08/24 04:00:00+00   01:46 PM                    7   \n2    290492  2018/08/24 04:00:00+00   02:20 AM                    7   \n3    290493  2018/08/24 04:00:00+00   02:25 AM                    7   \n4    290494  2018/08/24 04:00:00+00   03:20 AM                    7   \n\n                  ISSUING_AGENCY_NAME ISSUING_AGENCY_SHORT VIOLATION_CODE  \\\n0  METROPOLITAN POLICE DPT-DISTRICT 7               MPD-7D           P344   \n1  METROPOLITAN POLICE DPT-DISTRICT 7               MPD-7D           P344   \n2  METROPOLITAN POLICE DPT-DISTRICT 7               MPD-7D           P344   \n3  METROPOLITAN POLICE DPT-DISTRICT 7               MPD-7D           P344   \n4  METROPOLITAN POLICE DPT-DISTRICT 7               MPD-7D           P344   \n\n                                 VIOLATION_PROC_DESC        LOCATION  \\\n0  VEHICLE ON PRIVATE/PUBLIC PROPERTY WITHOUT CON...  4205 4TH ST SE   \n1  VEHICLE ON PRIVATE/PUBLIC PROPERTY WITHOUT CON...  4205 4TH ST SE   \n2  VEHICLE ON PRIVATE/PUBLIC PROPERTY WITHOUT CON...  4329 4TH ST SE   \n3  VEHICLE ON PRIVATE/PUBLIC PROPERTY WITHOUT CON...  4221 4TH ST SE   \n4  VEHICLE ON PRIVATE/PUBLIC PROPERTY WITHOUT CON...  4337 4TH ST SE   \n\n  PLATE_STATE  ...  PENALTY_2  PENALTY_3  PENALTY_4 PENALTY_5    XCOORD  \\\n0              ...        NaN        1.0        NaN       NaN  399920.0   \n1              ...        NaN        NaN        NaN       NaN  399920.0   \n2              ...        NaN        1.0        NaN       NaN  399867.0   \n3              ...        NaN        1.0        NaN       NaN  399923.0   \n4              ...        NaN        NaN        NaN       NaN  399860.0   \n\n     YCOORD  LATITUDE  LONGITUDE    MAR_ID       GIS_LAST_MOD_DTTM  \n0  129047.0    38.829    -77.001  147401.0  2019/05/29 04:16:08+00  \n1  129047.0    38.829    -77.001  147401.0  2019/05/29 04:16:08+00  \n2  128923.0    38.828    -77.002  147406.0  2019/05/29 04:16:08+00  \n3  128963.0    38.828    -77.001  147405.0  2019/05/29 04:16:08+00  \n4  128878.0    38.828    -77.002  147392.0  2019/05/29 04:16:08+00  \n\n[5 rows x 29 columns]",
      "text/html": "<div>\n<style scoped>\n    .dataframe tbody tr th:only-of-type {\n        vertical-align: middle;\n    }\n\n    .dataframe tbody tr th {\n        vertical-align: top;\n    }\n\n    .dataframe thead th {\n        text-align: right;\n    }\n</style>\n<table border=\"1\" class=\"dataframe\">\n  <thead>\n    <tr style=\"text-align: right;\">\n      <th></th>\n      <th>OBJECTID</th>\n      <th>ISSUE_DATE</th>\n      <th>ISSUE_TIME</th>\n      <th>ISSUING_AGENCY_CODE</th>\n      <th>ISSUING_AGENCY_NAME</th>\n      <th>ISSUING_AGENCY_SHORT</th>\n      <th>VIOLATION_CODE</th>\n      <th>VIOLATION_PROC_DESC</th>\n      <th>LOCATION</th>\n      <th>PLATE_STATE</th>\n      <th>...</th>\n      <th>PENALTY_2</th>\n      <th>PENALTY_3</th>\n      <th>PENALTY_4</th>\n      <th>PENALTY_5</th>\n      <th>XCOORD</th>\n      <th>YCOORD</th>\n      <th>LATITUDE</th>\n      <th>LONGITUDE</th>\n      <th>MAR_ID</th>\n      <th>GIS_LAST_MOD_DTTM</th>\n    </tr>\n  </thead>\n  <tbody>\n    <tr>\n      <th>0</th>\n      <td>290490</td>\n      <td>2018/08/24 04:00:00+00</td>\n      <td>01:44 AM</td>\n      <td>7</td>\n      <td>METROPOLITAN POLICE DPT-DISTRICT 7</td>\n      <td>MPD-7D</td>\n      <td>P344</td>\n      <td>VEHICLE ON PRIVATE/PUBLIC PROPERTY WITHOUT CON...</td>\n      <td>4205 4TH ST SE</td>\n      <td></td>\n      <td>...</td>\n      <td>NaN</td>\n      <td>1.0</td>\n      <td>NaN</td>\n      <td>NaN</td>\n      <td>399920.0</td>\n      <td>129047.0</td>\n      <td>38.829</td>\n      <td>-77.001</td>\n      <td>147401.0</td>\n      <td>2019/05/29 04:16:08+00</td>\n    </tr>\n    <tr>\n      <th>1</th>\n      <td>290491</td>\n      <td>2018/08/24 04:00:00+00</td>\n      <td>01:46 PM</td>\n      <td>7</td>\n      <td>METROPOLITAN POLICE DPT-DISTRICT 7</td>\n      <td>MPD-7D</td>\n      <td>P344</td>\n      <td>VEHICLE ON PRIVATE/PUBLIC PROPERTY WITHOUT CON...</td>\n      <td>4205 4TH ST SE</td>\n      <td></td>\n      <td>...</td>\n      <td>NaN</td>\n      <td>NaN</td>\n      <td>NaN</td>\n      <td>NaN</td>\n      <td>399920.0</td>\n      <td>129047.0</td>\n      <td>38.829</td>\n      <td>-77.001</td>\n      <td>147401.0</td>\n      <td>2019/05/29 04:16:08+00</td>\n    </tr>\n    <tr>\n      <th>2</th>\n      <td>290492</td>\n      <td>2018/08/24 04:00:00+00</td>\n      <td>02:20 AM</td>\n      <td>7</td>\n      <td>METROPOLITAN POLICE DPT-DISTRICT 7</td>\n      <td>MPD-7D</td>\n      <td>P344</td>\n      <td>VEHICLE ON PRIVATE/PUBLIC PROPERTY WITHOUT CON...</td>\n      <td>4329 4TH ST SE</td>\n      <td></td>\n      <td>...</td>\n      <td>NaN</td>\n      <td>1.0</td>\n      <td>NaN</td>\n      <td>NaN</td>\n      <td>399867.0</td>\n      <td>128923.0</td>\n      <td>38.828</td>\n      <td>-77.002</td>\n      <td>147406.0</td>\n      <td>2019/05/29 04:16:08+00</td>\n    </tr>\n    <tr>\n      <th>3</th>\n      <td>290493</td>\n      <td>2018/08/24 04:00:00+00</td>\n      <td>02:25 AM</td>\n      <td>7</td>\n      <td>METROPOLITAN POLICE DPT-DISTRICT 7</td>\n      <td>MPD-7D</td>\n      <td>P344</td>\n      <td>VEHICLE ON PRIVATE/PUBLIC PROPERTY WITHOUT CON...</td>\n      <td>4221 4TH ST SE</td>\n      <td></td>\n      <td>...</td>\n      <td>NaN</td>\n      <td>1.0</td>\n      <td>NaN</td>\n      <td>NaN</td>\n      <td>399923.0</td>\n      <td>128963.0</td>\n      <td>38.828</td>\n      <td>-77.001</td>\n      <td>147405.0</td>\n      <td>2019/05/29 04:16:08+00</td>\n    </tr>\n    <tr>\n      <th>4</th>\n      <td>290494</td>\n      <td>2018/08/24 04:00:00+00</td>\n      <td>03:20 AM</td>\n      <td>7</td>\n      <td>METROPOLITAN POLICE DPT-DISTRICT 7</td>\n      <td>MPD-7D</td>\n      <td>P344</td>\n      <td>VEHICLE ON PRIVATE/PUBLIC PROPERTY WITHOUT CON...</td>\n      <td>4337 4TH ST SE</td>\n      <td></td>\n      <td>...</td>\n      <td>NaN</td>\n      <td>NaN</td>\n      <td>NaN</td>\n      <td>NaN</td>\n      <td>399860.0</td>\n      <td>128878.0</td>\n      <td>38.828</td>\n      <td>-77.002</td>\n      <td>147392.0</td>\n      <td>2019/05/29 04:16:08+00</td>\n    </tr>\n  </tbody>\n</table>\n<p>5 rows × 29 columns</p>\n</div>"
     },
     "execution_count": 59,
     "metadata": {},
     "output_type": "execute_result"
    }
   ],
   "source": [
    "# head of dataset\n",
    "parking_violations.head()"
   ]
  },
  {
   "cell_type": "code",
   "execution_count": 60,
   "metadata": {},
   "outputs": [
    {
     "name": "stdout",
     "output_type": "stream",
     "text": [
      "<class 'pandas.core.frame.DataFrame'>\n",
      "RangeIndex: 6731 entries, 0 to 6730\n",
      "Data columns (total 29 columns):\n",
      " #   Column                Non-Null Count  Dtype  \n",
      "---  ------                --------------  -----  \n",
      " 0   OBJECTID              6731 non-null   int64  \n",
      " 1   ISSUE_DATE            6731 non-null   object \n",
      " 2   ISSUE_TIME            6727 non-null   object \n",
      " 3   ISSUING_AGENCY_CODE   6731 non-null   int64  \n",
      " 4   ISSUING_AGENCY_NAME   6731 non-null   object \n",
      " 5   ISSUING_AGENCY_SHORT  6731 non-null   object \n",
      " 6   VIOLATION_CODE        6731 non-null   object \n",
      " 7   VIOLATION_PROC_DESC   6621 non-null   object \n",
      " 8   LOCATION              6726 non-null   object \n",
      " 9   PLATE_STATE           6730 non-null   object \n",
      " 10  VEHICLE_TYPE          0 non-null      float64\n",
      " 11  MULTI_OWNER_NUMBER    413 non-null    float64\n",
      " 12  DISPOSITION_CODE      3032 non-null   float64\n",
      " 13  DISPOSITION_TYPE      6730 non-null   object \n",
      " 14  DISPOSITION_DESC      3032 non-null   object \n",
      " 15  DISPOSITION_DATE      3032 non-null   object \n",
      " 16  FINE_AMOUNT           6600 non-null   float64\n",
      " 17  TOTAL_PAID            6730 non-null   float64\n",
      " 18  PENALTY_1             2766 non-null   float64\n",
      " 19  PENALTY_2             0 non-null      float64\n",
      " 20  PENALTY_3             1348 non-null   float64\n",
      " 21  PENALTY_4             0 non-null      float64\n",
      " 22  PENALTY_5             0 non-null      float64\n",
      " 23  XCOORD                6380 non-null   float64\n",
      " 24  YCOORD                6380 non-null   float64\n",
      " 25  LATITUDE              6380 non-null   float64\n",
      " 26  LONGITUDE             6380 non-null   float64\n",
      " 27  MAR_ID                6380 non-null   float64\n",
      " 28  GIS_LAST_MOD_DTTM     6730 non-null   object \n",
      "dtypes: float64(15), int64(2), object(12)\n",
      "memory usage: 1.5+ MB\n"
     ]
    }
   ],
   "source": [
    "# dataset info\n",
    "parking_violations.info()"
   ]
  },
  {
   "cell_type": "markdown",
   "metadata": {},
   "source": [
    "## Observations\n",
    "\n",
    "Null fields:\n",
    "* VEHICLE_TYPE\n",
    "* PENALTY_1\n",
    "* PENALTY_2\n",
    "* PENALTY_3\n",
    "* PENALTY_4\n",
    "* PENALTY_5\n",
    "\n",
    "OBJECTID is a primary key and not needed\n",
    "\n",
    "Disposition fields - determine significance of DISPOSITION_CODE, DISPOSITION_TYPE, DISPOSITION_DESC, DISPOSITION_DATE\n",
    "    \n",
    "Date fields that require additional review:\n",
    "* ISSUE_DATE - format\n",
    "* GIS_LAST_MOD_DTTM - format, determine unique values and overall relevance\n",
    "    "
   ]
  },
  {
   "cell_type": "code",
   "execution_count": 61,
   "metadata": {},
   "outputs": [],
   "source": [
    "# drop null columns\n",
    "parking_violations.drop(['VEHICLE_TYPE', 'PENALTY_1', 'PENALTY_2', 'PENALTY_3', 'PENALTY_4', 'PENALTY_5'], axis=1, inplace=True)\n",
    "\n",
    "# drop OBJECTID\n",
    "parking_violations.drop(['OBJECTID'], axis=1, inplace=True)"
   ]
  },
  {
   "cell_type": "code",
   "execution_count": 62,
   "metadata": {},
   "outputs": [
    {
     "data": {
      "text/plain": "array(['DEEMED LIABLE', nan, 'RECONSIDER DENIED', 'DISM NOI LATE HEARG',\n       'DISM NOI SUBM LATE', 'DISMISSED NO CASE', 'LIABLE',\n       'DISM MAKE MISMATCH', 'DISMISSED ON MERIT', 'DISM STOLEN RPT PROV',\n       'LIABLE PENALTY DISM', 'LIABLE FINE REDUCED', 'DISM NO VIOL CODE',\n       'DISM NO SIDE OF STR', 'DISM NO QUADRANT', 'DISM ILLEGIBLE DATA',\n       'RECONSIDER GRANTED', 'DISM NO LICNSE STATE', 'CONTINUED',\n       'CCU SETTLEMENT', 'DISM DATA ENTRY ERR', 'VOID REQUEST BY DPW',\n       'PARK MOBILE RECEIPT', 'LIABLE METER OUTAGE',\n       'DISM ROSA EXEMPTION', 'REMOVE PENALTY 1&2', 'DISM NO VEHCL MAKE',\n       'CONTINUE ROSA', 'EVIDENCE PER CODE', 'RECONDENY PENDISMIS',\n       'LIABLE FL TO PAY MET', 'APPEAL BACKOUT', 'DISM METER OUTAGE',\n       'APL CANCEL FILING'], dtype=object)"
     },
     "execution_count": 62,
     "metadata": {},
     "output_type": "execute_result"
    }
   ],
   "source": [
    "# get values for disposition fields\n",
    "parking_violations['DISPOSITION_DESC'].unique()"
   ]
  },
  {
   "cell_type": "code",
   "execution_count": 63,
   "metadata": {},
   "outputs": [],
   "source": [
    "# dispositions are dismissed tickets\n",
    "# remove records with dispositions\n",
    "parking_violations = parking_violations[parking_violations['DISPOSITION_DESC'].isna()]\n",
    "\n",
    "# drop disposition columns\n",
    "parking_violations.drop(['DISPOSITION_CODE', 'DISPOSITION_TYPE', 'DISPOSITION_DESC', 'DISPOSITION_DATE'], axis=1, inplace=True)"
   ]
  },
  {
   "cell_type": "code",
   "execution_count": 64,
   "metadata": {},
   "outputs": [
    {
     "data": {
      "text/plain": "array([           nan, 9.50368779e+08, 2.07110000e+07, 9.50190963e+08,\n       9.50336594e+08, 1.06380000e+07, 1.06070000e+07, 9.50314838e+08,\n       9.50345131e+08, 2.06920000e+07, 9.50282861e+08, 9.50343162e+08,\n       9.50013542e+08, 9.50002858e+08, 9.50274200e+08, 9.50064448e+08,\n       9.50337829e+08, 9.50292349e+08, 9.50233496e+08, 9.50307813e+08,\n       9.50148795e+08, 2.06790000e+07, 1.19090000e+07, 1.10080000e+07,\n       9.50333424e+08, 1.06290000e+07, 9.50335403e+08, 1.06850000e+07,\n       1.17690000e+07, 1.13020000e+07, 1.17740000e+07, 1.07270000e+07,\n       1.18040000e+07, 9.50275022e+08, 1.10210000e+07, 1.13330000e+07,\n       9.50188674e+08, 1.12400000e+07, 1.12510000e+07, 9.50356041e+08,\n       1.12720000e+07, 9.50237499e+08, 1.08570000e+07, 9.50067561e+08,\n       1.10160000e+07, 1.10120000e+07, 9.50388039e+08, 1.19060000e+07,\n       9.50252116e+08, 9.50336836e+08, 1.13120000e+07, 9.50191787e+08,\n       9.50003821e+08, 9.50382532e+08, 9.50295685e+08, 9.50065237e+08,\n       9.50315053e+08, 9.50290647e+08, 9.50290152e+08, 9.50033892e+08,\n       9.50300872e+08, 9.50276357e+08, 1.21010000e+07, 9.50352651e+08,\n       1.17510000e+07, 1.11520000e+07, 1.10680000e+07, 1.17540000e+07,\n       1.18030000e+07, 9.50153295e+08, 9.50320945e+08, 9.50342313e+08,\n       1.09320000e+07, 1.06610000e+07, 9.50356303e+08, 9.50341428e+08,\n       9.50164513e+08, 9.50343450e+08, 9.50196239e+08, 9.50345209e+08,\n       9.50381419e+08, 9.50163568e+08, 9.50104232e+08, 1.06260000e+07,\n       9.50092164e+08, 9.50377456e+08, 9.50289861e+08, 9.50309615e+08,\n       9.50182381e+08, 9.50363282e+08, 9.50327277e+08, 9.50295760e+08,\n       9.50009099e+08, 9.50029855e+08, 9.50121418e+08, 1.11670000e+07,\n       9.50319251e+08, 1.10340000e+07, 9.50242426e+08, 9.50332699e+08,\n       1.17670000e+07, 9.50104604e+08, 9.50061747e+08, 9.50275312e+08,\n       9.50331692e+08, 9.50309538e+08, 9.50012847e+08, 9.50179464e+08,\n       9.50308295e+08, 9.50252031e+08, 9.50365299e+08, 9.50291969e+08,\n       9.50312275e+08, 9.50337056e+08, 9.50203352e+08, 9.50339872e+08,\n       9.50160845e+08, 9.50172755e+08, 9.50167917e+08, 9.50347425e+08])"
     },
     "execution_count": 64,
     "metadata": {},
     "output_type": "execute_result"
    }
   ],
   "source": [
    "parking_violations['MULTI_OWNER_NUMBER'].unique()"
   ]
  },
  {
   "cell_type": "code",
   "execution_count": 65,
   "metadata": {},
   "outputs": [],
   "source": [
    "parking_violations.drop('MULTI_OWNER_NUMBER', axis=1, inplace=True)"
   ]
  },
  {
   "cell_type": "code",
   "execution_count": 66,
   "metadata": {},
   "outputs": [
    {
     "data": {
      "text/plain": "array(['2019/05/29 04:16:08+00', nan], dtype=object)"
     },
     "execution_count": 66,
     "metadata": {},
     "output_type": "execute_result"
    }
   ],
   "source": [
    "parking_violations['GIS_LAST_MOD_DTTM'].unique()"
   ]
  },
  {
   "cell_type": "code",
   "execution_count": 67,
   "metadata": {},
   "outputs": [],
   "source": [
    "# column has a single value, drop it\n",
    "parking_violations.drop('GIS_LAST_MOD_DTTM', axis=1, inplace=True)"
   ]
  },
  {
   "cell_type": "code",
   "execution_count": 68,
   "metadata": {},
   "outputs": [
    {
     "name": "stdout",
     "output_type": "stream",
     "text": [
      "<class 'pandas.core.frame.DataFrame'>\n",
      "Int64Index: 3699 entries, 1 to 6730\n",
      "Data columns (total 16 columns):\n",
      " #   Column                Non-Null Count  Dtype  \n",
      "---  ------                --------------  -----  \n",
      " 0   ISSUE_DATE            3699 non-null   object \n",
      " 1   ISSUE_TIME            3699 non-null   object \n",
      " 2   ISSUING_AGENCY_CODE   3699 non-null   int64  \n",
      " 3   ISSUING_AGENCY_NAME   3699 non-null   object \n",
      " 4   ISSUING_AGENCY_SHORT  3699 non-null   object \n",
      " 5   VIOLATION_CODE        3699 non-null   object \n",
      " 6   VIOLATION_PROC_DESC   3589 non-null   object \n",
      " 7   LOCATION              3696 non-null   object \n",
      " 8   PLATE_STATE           3698 non-null   object \n",
      " 9   FINE_AMOUNT           3568 non-null   float64\n",
      " 10  TOTAL_PAID            3698 non-null   float64\n",
      " 11  XCOORD                3531 non-null   float64\n",
      " 12  YCOORD                3531 non-null   float64\n",
      " 13  LATITUDE              3531 non-null   float64\n",
      " 14  LONGITUDE             3531 non-null   float64\n",
      " 15  MAR_ID                3531 non-null   float64\n",
      "dtypes: float64(7), int64(1), object(8)\n",
      "memory usage: 491.3+ KB\n"
     ]
    }
   ],
   "source": [
    "parking_violations.info()"
   ]
  },
  {
   "cell_type": "code",
   "execution_count": 69,
   "metadata": {},
   "outputs": [
    {
     "data": {
      "text/plain": "array([' ', 'VA', 'MD', nan], dtype=object)"
     },
     "execution_count": 69,
     "metadata": {},
     "output_type": "execute_result"
    }
   ],
   "source": [
    "parking_violations['PLATE_STATE'].unique()"
   ]
  },
  {
   "cell_type": "code",
   "execution_count": 70,
   "metadata": {},
   "outputs": [
    {
     "data": {
      "text/plain": "array(['P344', 'P014', 'P269', 'P170', 'P259', 'P039', 'P002', 'P036',\n       'P007', 'P302', 'P304', 'P050', 'P055', 'P360', 'P041', 'P012',\n       'P288', 'P159', 'P046', 'P059', 'P429', 'P013', 'P011', 'P031',\n       'P045', 'P365', 'P428', 'P047', 'P001', 'P057', 'P332', 'P020',\n       'P015', 'P303', 'NO VIOL', 'P316', 'P318', 'P029', 'P025', 'P024',\n       'P168', 'P198', 'P334', 'P322', 'P034', 'P005', 'P017', 'P270',\n       'P023', 'P004', 'P042', 'P346', 'P056', 'P003', 'P417', 'P206',\n       'P386', 'P173', 'P113', 'P076', 'P172', 'P035', 'P037', 'P112',\n       'P281', 'P199', 'P285', 'P307', 'P280', 'P430', 'P216', 'P010',\n       'P287', 'P385', 'P022', 'P271', 'P320', 'P282', 'P278', 'P043',\n       'P054', 'P111', 'P306', 'P1'], dtype=object)"
     },
     "execution_count": 70,
     "metadata": {},
     "output_type": "execute_result"
    }
   ],
   "source": [
    "parking_violations['VIOLATION_CODE'].unique()"
   ]
  },
  {
   "cell_type": "code",
   "execution_count": 71,
   "metadata": {},
   "outputs": [
    {
     "data": {
      "text/plain": "array([250.,  nan,  50., 100.,  25.,  30., 150.,  20.,  60., 500.,  75.,\n        35.,  45.,  65.])"
     },
     "execution_count": 71,
     "metadata": {},
     "output_type": "execute_result"
    }
   ],
   "source": [
    "parking_violations['FINE_AMOUNT'].unique()"
   ]
  },
  {
   "cell_type": "code",
   "execution_count": 72,
   "metadata": {},
   "outputs": [
    {
     "data": {
      "text/plain": "                  ISSUE_DATE ISSUE_TIME  ISSUING_AGENCY_CODE  \\\n11    2018/08/23 04:00:00+00   08:56 AM                   59   \n29    2018/08/13 04:00:00+00   04:18 PM                   59   \n30    2018/08/13 04:00:00+00   04:34 PM                   59   \n31    2018/08/13 04:00:00+00   04:37 PM                   59   \n63    2018/08/05 04:00:00+00   12:22 PM                   57   \n...                      ...        ...                  ...   \n6262  2018/08/13 04:00:00+00   12:28 PM                   15   \n6271  2018/08/14 04:00:00+00   09:10 AM                   15   \n6277  2018/08/14 04:00:00+00   11:05 AM                   15   \n6440  2018/08/17 04:00:00+00   11:18 AM                   15   \n6730  2018/08/22 04:00:00+00   11:19 AM                   15   \n\n                      ISSUING_AGENCY_NAME ISSUING_AGENCY_SHORT VIOLATION_CODE  \\\n11    US. BUREAU OF ENGRAVING AND PRINTNG                  BEP           P269   \n29    US. BUREAU OF ENGRAVING AND PRINTNG                  BEP           P259   \n30    US. BUREAU OF ENGRAVING AND PRINTNG                  BEP           P259   \n31    US. BUREAU OF ENGRAVING AND PRINTNG                  BEP           P259   \n63                           METRO POLICE                  MTP           P007   \n...                                   ...                  ...            ...   \n6262           DEPARTMENT OF PUBLIC WORKS                  DPW           P012   \n6271           DEPARTMENT OF PUBLIC WORKS                  DPW           P039   \n6277           DEPARTMENT OF PUBLIC WORKS                  DPW           P012   \n6440           DEPARTMENT OF PUBLIC WORKS                  DPW           P170   \n6730           DEPARTMENT OF PUBLIC WORKS                  DPW             P1   \n\n                               VIOLATION_PROC_DESC  \\\n11                             NO STANDING ANYTIME   \n29    NO STOPPING OR STANDING IN PM RUSH HOUR ZONE   \n30    NO STOPPING OR STANDING IN PM RUSH HOUR ZONE   \n31    NO STOPPING OR STANDING IN PM RUSH HOUR ZONE   \n63                              PARK IN A BUS ZONE   \n...                                            ...   \n6262                      DISOBEYING OFFICIAL SIGN   \n6271                         PARK AT EXPIRED METER   \n6277                      DISOBEYING OFFICIAL SIGN   \n6440               FAILURE TO DISPLAY CURRENT TAGS   \n6730                                           NaN   \n\n                                 LOCATION PLATE_STATE  FINE_AMOUNT  \\\n11                     400 14 & MAINAV SW                     50.0   \n29                           13TH/C ST SW                    100.0   \n30                           14TH/C ST SW                    100.0   \n31                           14TH/C ST SW                    100.0   \n63                        1100 11 ST N NW                     50.0   \n...                                   ...         ...          ...   \n6262     300 BLOCK L'ENFANT PLZ SW WEST *                     30.0   \n6271     300 BLOCK L'ENFANT PLZ SW WEST *                     30.0   \n6277     300 BLOCK L'ENFANT PLZ SW EAST *                     30.0   \n6440        3500 BLOCK W ST NW SOUTH SIDE                    100.0   \n6730                                  NaN         NaN          NaN   \n\n      TOTAL_PAID  XCOORD  YCOORD  LATITUDE  LONGITUDE  MAR_ID  \n11         100.0     NaN     NaN       NaN        NaN     NaN  \n29         100.0     NaN     NaN       NaN        NaN     NaN  \n30         100.0     NaN     NaN       NaN        NaN     NaN  \n31         100.0     NaN     NaN       NaN        NaN     NaN  \n63          50.0     NaN     NaN       NaN        NaN     NaN  \n...          ...     ...     ...       ...        ...     ...  \n6262        30.0     NaN     NaN       NaN        NaN     NaN  \n6271        30.0     NaN     NaN       NaN        NaN     NaN  \n6277        30.0     NaN     NaN       NaN        NaN     NaN  \n6440       100.0     NaN     NaN       NaN        NaN     NaN  \n6730         NaN     NaN     NaN       NaN        NaN     NaN  \n\n[168 rows x 16 columns]",
      "text/html": "<div>\n<style scoped>\n    .dataframe tbody tr th:only-of-type {\n        vertical-align: middle;\n    }\n\n    .dataframe tbody tr th {\n        vertical-align: top;\n    }\n\n    .dataframe thead th {\n        text-align: right;\n    }\n</style>\n<table border=\"1\" class=\"dataframe\">\n  <thead>\n    <tr style=\"text-align: right;\">\n      <th></th>\n      <th>ISSUE_DATE</th>\n      <th>ISSUE_TIME</th>\n      <th>ISSUING_AGENCY_CODE</th>\n      <th>ISSUING_AGENCY_NAME</th>\n      <th>ISSUING_AGENCY_SHORT</th>\n      <th>VIOLATION_CODE</th>\n      <th>VIOLATION_PROC_DESC</th>\n      <th>LOCATION</th>\n      <th>PLATE_STATE</th>\n      <th>FINE_AMOUNT</th>\n      <th>TOTAL_PAID</th>\n      <th>XCOORD</th>\n      <th>YCOORD</th>\n      <th>LATITUDE</th>\n      <th>LONGITUDE</th>\n      <th>MAR_ID</th>\n    </tr>\n  </thead>\n  <tbody>\n    <tr>\n      <th>11</th>\n      <td>2018/08/23 04:00:00+00</td>\n      <td>08:56 AM</td>\n      <td>59</td>\n      <td>US. BUREAU OF ENGRAVING AND PRINTNG</td>\n      <td>BEP</td>\n      <td>P269</td>\n      <td>NO STANDING ANYTIME</td>\n      <td>400 14 &amp; MAINAV SW</td>\n      <td></td>\n      <td>50.0</td>\n      <td>100.0</td>\n      <td>NaN</td>\n      <td>NaN</td>\n      <td>NaN</td>\n      <td>NaN</td>\n      <td>NaN</td>\n    </tr>\n    <tr>\n      <th>29</th>\n      <td>2018/08/13 04:00:00+00</td>\n      <td>04:18 PM</td>\n      <td>59</td>\n      <td>US. BUREAU OF ENGRAVING AND PRINTNG</td>\n      <td>BEP</td>\n      <td>P259</td>\n      <td>NO STOPPING OR STANDING IN PM RUSH HOUR ZONE</td>\n      <td>13TH/C ST SW</td>\n      <td></td>\n      <td>100.0</td>\n      <td>100.0</td>\n      <td>NaN</td>\n      <td>NaN</td>\n      <td>NaN</td>\n      <td>NaN</td>\n      <td>NaN</td>\n    </tr>\n    <tr>\n      <th>30</th>\n      <td>2018/08/13 04:00:00+00</td>\n      <td>04:34 PM</td>\n      <td>59</td>\n      <td>US. BUREAU OF ENGRAVING AND PRINTNG</td>\n      <td>BEP</td>\n      <td>P259</td>\n      <td>NO STOPPING OR STANDING IN PM RUSH HOUR ZONE</td>\n      <td>14TH/C ST SW</td>\n      <td></td>\n      <td>100.0</td>\n      <td>100.0</td>\n      <td>NaN</td>\n      <td>NaN</td>\n      <td>NaN</td>\n      <td>NaN</td>\n      <td>NaN</td>\n    </tr>\n    <tr>\n      <th>31</th>\n      <td>2018/08/13 04:00:00+00</td>\n      <td>04:37 PM</td>\n      <td>59</td>\n      <td>US. BUREAU OF ENGRAVING AND PRINTNG</td>\n      <td>BEP</td>\n      <td>P259</td>\n      <td>NO STOPPING OR STANDING IN PM RUSH HOUR ZONE</td>\n      <td>14TH/C ST SW</td>\n      <td></td>\n      <td>100.0</td>\n      <td>100.0</td>\n      <td>NaN</td>\n      <td>NaN</td>\n      <td>NaN</td>\n      <td>NaN</td>\n      <td>NaN</td>\n    </tr>\n    <tr>\n      <th>63</th>\n      <td>2018/08/05 04:00:00+00</td>\n      <td>12:22 PM</td>\n      <td>57</td>\n      <td>METRO POLICE</td>\n      <td>MTP</td>\n      <td>P007</td>\n      <td>PARK IN A BUS ZONE</td>\n      <td>1100 11 ST N NW</td>\n      <td></td>\n      <td>50.0</td>\n      <td>50.0</td>\n      <td>NaN</td>\n      <td>NaN</td>\n      <td>NaN</td>\n      <td>NaN</td>\n      <td>NaN</td>\n    </tr>\n    <tr>\n      <th>...</th>\n      <td>...</td>\n      <td>...</td>\n      <td>...</td>\n      <td>...</td>\n      <td>...</td>\n      <td>...</td>\n      <td>...</td>\n      <td>...</td>\n      <td>...</td>\n      <td>...</td>\n      <td>...</td>\n      <td>...</td>\n      <td>...</td>\n      <td>...</td>\n      <td>...</td>\n      <td>...</td>\n    </tr>\n    <tr>\n      <th>6262</th>\n      <td>2018/08/13 04:00:00+00</td>\n      <td>12:28 PM</td>\n      <td>15</td>\n      <td>DEPARTMENT OF PUBLIC WORKS</td>\n      <td>DPW</td>\n      <td>P012</td>\n      <td>DISOBEYING OFFICIAL SIGN</td>\n      <td>300 BLOCK L'ENFANT PLZ SW WEST *</td>\n      <td></td>\n      <td>30.0</td>\n      <td>30.0</td>\n      <td>NaN</td>\n      <td>NaN</td>\n      <td>NaN</td>\n      <td>NaN</td>\n      <td>NaN</td>\n    </tr>\n    <tr>\n      <th>6271</th>\n      <td>2018/08/14 04:00:00+00</td>\n      <td>09:10 AM</td>\n      <td>15</td>\n      <td>DEPARTMENT OF PUBLIC WORKS</td>\n      <td>DPW</td>\n      <td>P039</td>\n      <td>PARK AT EXPIRED METER</td>\n      <td>300 BLOCK L'ENFANT PLZ SW WEST *</td>\n      <td></td>\n      <td>30.0</td>\n      <td>30.0</td>\n      <td>NaN</td>\n      <td>NaN</td>\n      <td>NaN</td>\n      <td>NaN</td>\n      <td>NaN</td>\n    </tr>\n    <tr>\n      <th>6277</th>\n      <td>2018/08/14 04:00:00+00</td>\n      <td>11:05 AM</td>\n      <td>15</td>\n      <td>DEPARTMENT OF PUBLIC WORKS</td>\n      <td>DPW</td>\n      <td>P012</td>\n      <td>DISOBEYING OFFICIAL SIGN</td>\n      <td>300 BLOCK L'ENFANT PLZ SW EAST *</td>\n      <td></td>\n      <td>30.0</td>\n      <td>30.0</td>\n      <td>NaN</td>\n      <td>NaN</td>\n      <td>NaN</td>\n      <td>NaN</td>\n      <td>NaN</td>\n    </tr>\n    <tr>\n      <th>6440</th>\n      <td>2018/08/17 04:00:00+00</td>\n      <td>11:18 AM</td>\n      <td>15</td>\n      <td>DEPARTMENT OF PUBLIC WORKS</td>\n      <td>DPW</td>\n      <td>P170</td>\n      <td>FAILURE TO DISPLAY CURRENT TAGS</td>\n      <td>3500 BLOCK W ST NW SOUTH SIDE</td>\n      <td></td>\n      <td>100.0</td>\n      <td>100.0</td>\n      <td>NaN</td>\n      <td>NaN</td>\n      <td>NaN</td>\n      <td>NaN</td>\n      <td>NaN</td>\n    </tr>\n    <tr>\n      <th>6730</th>\n      <td>2018/08/22 04:00:00+00</td>\n      <td>11:19 AM</td>\n      <td>15</td>\n      <td>DEPARTMENT OF PUBLIC WORKS</td>\n      <td>DPW</td>\n      <td>P1</td>\n      <td>NaN</td>\n      <td>NaN</td>\n      <td>NaN</td>\n      <td>NaN</td>\n      <td>NaN</td>\n      <td>NaN</td>\n      <td>NaN</td>\n      <td>NaN</td>\n      <td>NaN</td>\n      <td>NaN</td>\n    </tr>\n  </tbody>\n</table>\n<p>168 rows × 16 columns</p>\n</div>"
     },
     "execution_count": 72,
     "metadata": {},
     "output_type": "execute_result"
    }
   ],
   "source": [
    "parking_violations[parking_violations['LATITUDE'].isna()]"
   ]
  },
  {
   "cell_type": "code",
   "execution_count": 73,
   "metadata": {},
   "outputs": [],
   "source": [
    "# resolve date fields\n",
    "from dateutil.parser import parse\n",
    "\n",
    "\n",
    "def format_date(date_str):\n",
    "    return parse(date_str).date()\n",
    "\n",
    "\n",
    "def format_time(time_str):\n",
    "    return parse(time_str).time()"
   ]
  },
  {
   "cell_type": "code",
   "execution_count": 74,
   "metadata": {},
   "outputs": [],
   "source": [
    "parking_violations['FORMAT_DATE'] = parking_violations.apply(lambda x: format_date(x['ISSUE_DATE']), axis=1)"
   ]
  },
  {
   "cell_type": "code",
   "execution_count": 75,
   "metadata": {},
   "outputs": [],
   "source": [
    "parking_violations.dropna(subset=['ISSUE_TIME'], inplace=True)"
   ]
  },
  {
   "cell_type": "code",
   "execution_count": 76,
   "metadata": {},
   "outputs": [],
   "source": [
    "parking_violations['FORMAT_TIME'] = parking_violations.apply(lambda x: format_time(x['ISSUE_TIME']), axis=1)"
   ]
  },
  {
   "cell_type": "code",
   "execution_count": 77,
   "metadata": {},
   "outputs": [
    {
     "data": {
      "text/plain": "                ISSUE_DATE ISSUE_TIME  ISSUING_AGENCY_CODE  \\\n1   2018/08/24 04:00:00+00   01:46 PM                    7   \n9   2018/08/09 04:00:00+00   07:13 AM                   25   \n11  2018/08/23 04:00:00+00   08:56 AM                   59   \n14  2018/08/26 04:00:00+00   08:55 AM                   59   \n20  2018/08/07 04:00:00+00   02:45 AM                    2   \n\n                    ISSUING_AGENCY_NAME ISSUING_AGENCY_SHORT VIOLATION_CODE  \\\n1    METROPOLITAN POLICE DPT-DISTRICT 7               MPD-7D           P344   \n9   SPECIAL OPERATION DIV & TRAFFIC DIV              MPD-SOD           P014   \n11  US. BUREAU OF ENGRAVING AND PRINTNG                  BEP           P269   \n14  US. BUREAU OF ENGRAVING AND PRINTNG                  BEP           P170   \n20   METROPOLITAN POLICE DPT-DISTRICT 2               MPD-2D           P344   \n\n                                  VIOLATION_PROC_DESC             LOCATION  \\\n1   VEHICLE ON PRIVATE/PUBLIC PROPERTY WITHOUT CON...       4205 4TH ST SE   \n9                                EMERGENCY NO PARKING          700 F ST NW   \n11                                NO STANDING ANYTIME   400 14 & MAINAV SW   \n14                    FAILURE TO DISPLAY CURRENT TAGS     1200 BLK D ST SW   \n20  VEHICLE ON PRIVATE/PUBLIC PROPERTY WITHOUT CON...  100 MICHIGAN AVE NE   \n\n   PLATE_STATE  FINE_AMOUNT  TOTAL_PAID    XCOORD    YCOORD  LATITUDE  \\\n1                     250.0       250.0  399920.0  129047.0    38.829   \n9                       NaN         0.0  398051.0  136571.0    38.897   \n11                     50.0       100.0       NaN       NaN       NaN   \n14                    100.0       100.0  397495.0  135237.0    38.885   \n20                    250.0       250.0  399463.0  139951.0    38.927   \n\n    LONGITUDE    MAR_ID FORMAT_DATE FORMAT_TIME  \n1     -77.001  147401.0  2018-08-24    13:46:00  \n9     -77.022  301590.0  2018-08-09    07:13:00  \n11        NaN       NaN  2018-08-23    08:56:00  \n14    -77.029  803862.0  2018-08-26    08:55:00  \n20    -77.006  146162.0  2018-08-07    02:45:00  ",
      "text/html": "<div>\n<style scoped>\n    .dataframe tbody tr th:only-of-type {\n        vertical-align: middle;\n    }\n\n    .dataframe tbody tr th {\n        vertical-align: top;\n    }\n\n    .dataframe thead th {\n        text-align: right;\n    }\n</style>\n<table border=\"1\" class=\"dataframe\">\n  <thead>\n    <tr style=\"text-align: right;\">\n      <th></th>\n      <th>ISSUE_DATE</th>\n      <th>ISSUE_TIME</th>\n      <th>ISSUING_AGENCY_CODE</th>\n      <th>ISSUING_AGENCY_NAME</th>\n      <th>ISSUING_AGENCY_SHORT</th>\n      <th>VIOLATION_CODE</th>\n      <th>VIOLATION_PROC_DESC</th>\n      <th>LOCATION</th>\n      <th>PLATE_STATE</th>\n      <th>FINE_AMOUNT</th>\n      <th>TOTAL_PAID</th>\n      <th>XCOORD</th>\n      <th>YCOORD</th>\n      <th>LATITUDE</th>\n      <th>LONGITUDE</th>\n      <th>MAR_ID</th>\n      <th>FORMAT_DATE</th>\n      <th>FORMAT_TIME</th>\n    </tr>\n  </thead>\n  <tbody>\n    <tr>\n      <th>1</th>\n      <td>2018/08/24 04:00:00+00</td>\n      <td>01:46 PM</td>\n      <td>7</td>\n      <td>METROPOLITAN POLICE DPT-DISTRICT 7</td>\n      <td>MPD-7D</td>\n      <td>P344</td>\n      <td>VEHICLE ON PRIVATE/PUBLIC PROPERTY WITHOUT CON...</td>\n      <td>4205 4TH ST SE</td>\n      <td></td>\n      <td>250.0</td>\n      <td>250.0</td>\n      <td>399920.0</td>\n      <td>129047.0</td>\n      <td>38.829</td>\n      <td>-77.001</td>\n      <td>147401.0</td>\n      <td>2018-08-24</td>\n      <td>13:46:00</td>\n    </tr>\n    <tr>\n      <th>9</th>\n      <td>2018/08/09 04:00:00+00</td>\n      <td>07:13 AM</td>\n      <td>25</td>\n      <td>SPECIAL OPERATION DIV &amp; TRAFFIC DIV</td>\n      <td>MPD-SOD</td>\n      <td>P014</td>\n      <td>EMERGENCY NO PARKING</td>\n      <td>700 F ST NW</td>\n      <td></td>\n      <td>NaN</td>\n      <td>0.0</td>\n      <td>398051.0</td>\n      <td>136571.0</td>\n      <td>38.897</td>\n      <td>-77.022</td>\n      <td>301590.0</td>\n      <td>2018-08-09</td>\n      <td>07:13:00</td>\n    </tr>\n    <tr>\n      <th>11</th>\n      <td>2018/08/23 04:00:00+00</td>\n      <td>08:56 AM</td>\n      <td>59</td>\n      <td>US. BUREAU OF ENGRAVING AND PRINTNG</td>\n      <td>BEP</td>\n      <td>P269</td>\n      <td>NO STANDING ANYTIME</td>\n      <td>400 14 &amp; MAINAV SW</td>\n      <td></td>\n      <td>50.0</td>\n      <td>100.0</td>\n      <td>NaN</td>\n      <td>NaN</td>\n      <td>NaN</td>\n      <td>NaN</td>\n      <td>NaN</td>\n      <td>2018-08-23</td>\n      <td>08:56:00</td>\n    </tr>\n    <tr>\n      <th>14</th>\n      <td>2018/08/26 04:00:00+00</td>\n      <td>08:55 AM</td>\n      <td>59</td>\n      <td>US. BUREAU OF ENGRAVING AND PRINTNG</td>\n      <td>BEP</td>\n      <td>P170</td>\n      <td>FAILURE TO DISPLAY CURRENT TAGS</td>\n      <td>1200 BLK D ST SW</td>\n      <td></td>\n      <td>100.0</td>\n      <td>100.0</td>\n      <td>397495.0</td>\n      <td>135237.0</td>\n      <td>38.885</td>\n      <td>-77.029</td>\n      <td>803862.0</td>\n      <td>2018-08-26</td>\n      <td>08:55:00</td>\n    </tr>\n    <tr>\n      <th>20</th>\n      <td>2018/08/07 04:00:00+00</td>\n      <td>02:45 AM</td>\n      <td>2</td>\n      <td>METROPOLITAN POLICE DPT-DISTRICT 2</td>\n      <td>MPD-2D</td>\n      <td>P344</td>\n      <td>VEHICLE ON PRIVATE/PUBLIC PROPERTY WITHOUT CON...</td>\n      <td>100 MICHIGAN AVE NE</td>\n      <td></td>\n      <td>250.0</td>\n      <td>250.0</td>\n      <td>399463.0</td>\n      <td>139951.0</td>\n      <td>38.927</td>\n      <td>-77.006</td>\n      <td>146162.0</td>\n      <td>2018-08-07</td>\n      <td>02:45:00</td>\n    </tr>\n  </tbody>\n</table>\n</div>"
     },
     "execution_count": 77,
     "metadata": {},
     "output_type": "execute_result"
    }
   ],
   "source": [
    "parking_violations.head()"
   ]
  },
  {
   "cell_type": "code",
   "execution_count": 78,
   "metadata": {},
   "outputs": [
    {
     "name": "stdout",
     "output_type": "stream",
     "text": [
      "<class 'pandas.core.frame.DataFrame'>\n",
      "Int64Index: 3699 entries, 1 to 6730\n",
      "Data columns (total 18 columns):\n",
      " #   Column                Non-Null Count  Dtype  \n",
      "---  ------                --------------  -----  \n",
      " 0   ISSUE_DATE            3699 non-null   object \n",
      " 1   ISSUE_TIME            3699 non-null   object \n",
      " 2   ISSUING_AGENCY_CODE   3699 non-null   int64  \n",
      " 3   ISSUING_AGENCY_NAME   3699 non-null   object \n",
      " 4   ISSUING_AGENCY_SHORT  3699 non-null   object \n",
      " 5   VIOLATION_CODE        3699 non-null   object \n",
      " 6   VIOLATION_PROC_DESC   3589 non-null   object \n",
      " 7   LOCATION              3696 non-null   object \n",
      " 8   PLATE_STATE           3698 non-null   object \n",
      " 9   FINE_AMOUNT           3568 non-null   float64\n",
      " 10  TOTAL_PAID            3698 non-null   float64\n",
      " 11  XCOORD                3531 non-null   float64\n",
      " 12  YCOORD                3531 non-null   float64\n",
      " 13  LATITUDE              3531 non-null   float64\n",
      " 14  LONGITUDE             3531 non-null   float64\n",
      " 15  MAR_ID                3531 non-null   float64\n",
      " 16  FORMAT_DATE           3699 non-null   object \n",
      " 17  FORMAT_TIME           3699 non-null   object \n",
      "dtypes: float64(7), int64(1), object(10)\n",
      "memory usage: 549.1+ KB\n"
     ]
    }
   ],
   "source": [
    "parking_violations.info()"
   ]
  },
  {
   "cell_type": "code",
   "execution_count": 79,
   "metadata": {},
   "outputs": [],
   "source": [
    "parking_violations.to_csv('../data/sample/August_2018.csv', index=False)\n"
   ]
  }
 ],
 "metadata": {
  "kernelspec": {
   "display_name": "Python 3",
   "language": "python",
   "name": "python3"
  },
  "language_info": {
   "codemirror_mode": {
    "name": "ipython",
    "version": 3
   },
   "file_extension": ".py",
   "mimetype": "text/x-python",
   "name": "python",
   "nbconvert_exporter": "python",
   "pygments_lexer": "ipython3",
   "version": "3.8.3"
  }
 },
 "nbformat": 4,
 "nbformat_minor": 4
}