{
 "cells": [
  {
   "cell_type": "markdown",
   "metadata": {},
   "source": [
    "# EDA"
   ]
  },
  {
   "cell_type": "code",
   "execution_count": 1,
   "metadata": {},
   "outputs": [],
   "source": [
    "# load pandas for data analysis\n",
    "import pandas as pd\n",
    "\n",
    "# load dataset\n",
    "parking_violations = pd.read_csv('../data/sample/Parking_Violations_Issued_in_August_2018.csv')"
   ]
  },
  {
   "cell_type": "code",
   "execution_count": 2,
   "metadata": {},
   "outputs": [
    {
     "data": {
      "text/html": [
       "<div>\n",
       "<style scoped>\n",
       "    .dataframe tbody tr th:only-of-type {\n",
       "        vertical-align: middle;\n",
       "    }\n",
       "\n",
       "    .dataframe tbody tr th {\n",
       "        vertical-align: top;\n",
       "    }\n",
       "\n",
       "    .dataframe thead th {\n",
       "        text-align: right;\n",
       "    }\n",
       "</style>\n",
       "<table border=\"1\" class=\"dataframe\">\n",
       "  <thead>\n",
       "    <tr style=\"text-align: right;\">\n",
       "      <th></th>\n",
       "      <th>OBJECTID</th>\n",
       "      <th>ISSUE_DATE</th>\n",
       "      <th>ISSUE_TIME</th>\n",
       "      <th>ISSUING_AGENCY_CODE</th>\n",
       "      <th>ISSUING_AGENCY_NAME</th>\n",
       "      <th>ISSUING_AGENCY_SHORT</th>\n",
       "      <th>VIOLATION_CODE</th>\n",
       "      <th>VIOLATION_PROC_DESC</th>\n",
       "      <th>LOCATION</th>\n",
       "      <th>PLATE_STATE</th>\n",
       "      <th>...</th>\n",
       "      <th>PENALTY_2</th>\n",
       "      <th>PENALTY_3</th>\n",
       "      <th>PENALTY_4</th>\n",
       "      <th>PENALTY_5</th>\n",
       "      <th>XCOORD</th>\n",
       "      <th>YCOORD</th>\n",
       "      <th>LATITUDE</th>\n",
       "      <th>LONGITUDE</th>\n",
       "      <th>MAR_ID</th>\n",
       "      <th>GIS_LAST_MOD_DTTM</th>\n",
       "    </tr>\n",
       "  </thead>\n",
       "  <tbody>\n",
       "    <tr>\n",
       "      <th>0</th>\n",
       "      <td>290490</td>\n",
       "      <td>2018/08/24 04:00:00+00</td>\n",
       "      <td>01:44 AM</td>\n",
       "      <td>7.0</td>\n",
       "      <td>METROPOLITAN POLICE DPT-DISTRICT 7</td>\n",
       "      <td>MPD-7D</td>\n",
       "      <td>P344</td>\n",
       "      <td>VEHICLE ON PRIVATE/PUBLIC PROPERTY WITHOUT CON...</td>\n",
       "      <td>4205 4TH ST SE</td>\n",
       "      <td></td>\n",
       "      <td>...</td>\n",
       "      <td>NaN</td>\n",
       "      <td>1.0</td>\n",
       "      <td>NaN</td>\n",
       "      <td>NaN</td>\n",
       "      <td>399920.0</td>\n",
       "      <td>129047.0</td>\n",
       "      <td>38.829</td>\n",
       "      <td>-77.001</td>\n",
       "      <td>147401.0</td>\n",
       "      <td>2019/05/29 04:16:08+00</td>\n",
       "    </tr>\n",
       "    <tr>\n",
       "      <th>1</th>\n",
       "      <td>290491</td>\n",
       "      <td>2018/08/24 04:00:00+00</td>\n",
       "      <td>01:46 PM</td>\n",
       "      <td>7.0</td>\n",
       "      <td>METROPOLITAN POLICE DPT-DISTRICT 7</td>\n",
       "      <td>MPD-7D</td>\n",
       "      <td>P344</td>\n",
       "      <td>VEHICLE ON PRIVATE/PUBLIC PROPERTY WITHOUT CON...</td>\n",
       "      <td>4205 4TH ST SE</td>\n",
       "      <td></td>\n",
       "      <td>...</td>\n",
       "      <td>NaN</td>\n",
       "      <td>NaN</td>\n",
       "      <td>NaN</td>\n",
       "      <td>NaN</td>\n",
       "      <td>399920.0</td>\n",
       "      <td>129047.0</td>\n",
       "      <td>38.829</td>\n",
       "      <td>-77.001</td>\n",
       "      <td>147401.0</td>\n",
       "      <td>2019/05/29 04:16:08+00</td>\n",
       "    </tr>\n",
       "    <tr>\n",
       "      <th>2</th>\n",
       "      <td>290492</td>\n",
       "      <td>2018/08/24 04:00:00+00</td>\n",
       "      <td>02:20 AM</td>\n",
       "      <td>7.0</td>\n",
       "      <td>METROPOLITAN POLICE DPT-DISTRICT 7</td>\n",
       "      <td>MPD-7D</td>\n",
       "      <td>P344</td>\n",
       "      <td>VEHICLE ON PRIVATE/PUBLIC PROPERTY WITHOUT CON...</td>\n",
       "      <td>4329 4TH ST SE</td>\n",
       "      <td></td>\n",
       "      <td>...</td>\n",
       "      <td>NaN</td>\n",
       "      <td>1.0</td>\n",
       "      <td>NaN</td>\n",
       "      <td>NaN</td>\n",
       "      <td>399867.0</td>\n",
       "      <td>128923.0</td>\n",
       "      <td>38.828</td>\n",
       "      <td>-77.002</td>\n",
       "      <td>147406.0</td>\n",
       "      <td>2019/05/29 04:16:08+00</td>\n",
       "    </tr>\n",
       "    <tr>\n",
       "      <th>3</th>\n",
       "      <td>290493</td>\n",
       "      <td>2018/08/24 04:00:00+00</td>\n",
       "      <td>02:25 AM</td>\n",
       "      <td>7.0</td>\n",
       "      <td>METROPOLITAN POLICE DPT-DISTRICT 7</td>\n",
       "      <td>MPD-7D</td>\n",
       "      <td>P344</td>\n",
       "      <td>VEHICLE ON PRIVATE/PUBLIC PROPERTY WITHOUT CON...</td>\n",
       "      <td>4221 4TH ST SE</td>\n",
       "      <td></td>\n",
       "      <td>...</td>\n",
       "      <td>NaN</td>\n",
       "      <td>1.0</td>\n",
       "      <td>NaN</td>\n",
       "      <td>NaN</td>\n",
       "      <td>399923.0</td>\n",
       "      <td>128963.0</td>\n",
       "      <td>38.828</td>\n",
       "      <td>-77.001</td>\n",
       "      <td>147405.0</td>\n",
       "      <td>2019/05/29 04:16:08+00</td>\n",
       "    </tr>\n",
       "    <tr>\n",
       "      <th>4</th>\n",
       "      <td>290494</td>\n",
       "      <td>2018/08/24 04:00:00+00</td>\n",
       "      <td>03:20 AM</td>\n",
       "      <td>7.0</td>\n",
       "      <td>METROPOLITAN POLICE DPT-DISTRICT 7</td>\n",
       "      <td>MPD-7D</td>\n",
       "      <td>P344</td>\n",
       "      <td>VEHICLE ON PRIVATE/PUBLIC PROPERTY WITHOUT CON...</td>\n",
       "      <td>4337 4TH ST SE</td>\n",
       "      <td></td>\n",
       "      <td>...</td>\n",
       "      <td>NaN</td>\n",
       "      <td>NaN</td>\n",
       "      <td>NaN</td>\n",
       "      <td>NaN</td>\n",
       "      <td>399860.0</td>\n",
       "      <td>128878.0</td>\n",
       "      <td>38.828</td>\n",
       "      <td>-77.002</td>\n",
       "      <td>147392.0</td>\n",
       "      <td>2019/05/29 04:16:08+00</td>\n",
       "    </tr>\n",
       "  </tbody>\n",
       "</table>\n",
       "<p>5 rows × 29 columns</p>\n",
       "</div>"
      ],
      "text/plain": [
       "   OBJECTID              ISSUE_DATE ISSUE_TIME  ISSUING_AGENCY_CODE  \\\n",
       "0    290490  2018/08/24 04:00:00+00   01:44 AM                  7.0   \n",
       "1    290491  2018/08/24 04:00:00+00   01:46 PM                  7.0   \n",
       "2    290492  2018/08/24 04:00:00+00   02:20 AM                  7.0   \n",
       "3    290493  2018/08/24 04:00:00+00   02:25 AM                  7.0   \n",
       "4    290494  2018/08/24 04:00:00+00   03:20 AM                  7.0   \n",
       "\n",
       "                  ISSUING_AGENCY_NAME ISSUING_AGENCY_SHORT VIOLATION_CODE  \\\n",
       "0  METROPOLITAN POLICE DPT-DISTRICT 7               MPD-7D           P344   \n",
       "1  METROPOLITAN POLICE DPT-DISTRICT 7               MPD-7D           P344   \n",
       "2  METROPOLITAN POLICE DPT-DISTRICT 7               MPD-7D           P344   \n",
       "3  METROPOLITAN POLICE DPT-DISTRICT 7               MPD-7D           P344   \n",
       "4  METROPOLITAN POLICE DPT-DISTRICT 7               MPD-7D           P344   \n",
       "\n",
       "                                 VIOLATION_PROC_DESC        LOCATION  \\\n",
       "0  VEHICLE ON PRIVATE/PUBLIC PROPERTY WITHOUT CON...  4205 4TH ST SE   \n",
       "1  VEHICLE ON PRIVATE/PUBLIC PROPERTY WITHOUT CON...  4205 4TH ST SE   \n",
       "2  VEHICLE ON PRIVATE/PUBLIC PROPERTY WITHOUT CON...  4329 4TH ST SE   \n",
       "3  VEHICLE ON PRIVATE/PUBLIC PROPERTY WITHOUT CON...  4221 4TH ST SE   \n",
       "4  VEHICLE ON PRIVATE/PUBLIC PROPERTY WITHOUT CON...  4337 4TH ST SE   \n",
       "\n",
       "  PLATE_STATE  ...  PENALTY_2  PENALTY_3  PENALTY_4 PENALTY_5    XCOORD  \\\n",
       "0              ...        NaN        1.0        NaN       NaN  399920.0   \n",
       "1              ...        NaN        NaN        NaN       NaN  399920.0   \n",
       "2              ...        NaN        1.0        NaN       NaN  399867.0   \n",
       "3              ...        NaN        1.0        NaN       NaN  399923.0   \n",
       "4              ...        NaN        NaN        NaN       NaN  399860.0   \n",
       "\n",
       "     YCOORD  LATITUDE  LONGITUDE    MAR_ID       GIS_LAST_MOD_DTTM  \n",
       "0  129047.0    38.829    -77.001  147401.0  2019/05/29 04:16:08+00  \n",
       "1  129047.0    38.829    -77.001  147401.0  2019/05/29 04:16:08+00  \n",
       "2  128923.0    38.828    -77.002  147406.0  2019/05/29 04:16:08+00  \n",
       "3  128963.0    38.828    -77.001  147405.0  2019/05/29 04:16:08+00  \n",
       "4  128878.0    38.828    -77.002  147392.0  2019/05/29 04:16:08+00  \n",
       "\n",
       "[5 rows x 29 columns]"
      ]
     },
     "execution_count": 2,
     "metadata": {},
     "output_type": "execute_result"
    }
   ],
   "source": [
    "# head of dataset\n",
    "parking_violations.head()"
   ]
  },
  {
   "cell_type": "code",
   "execution_count": 3,
   "metadata": {},
   "outputs": [
    {
     "name": "stdout",
     "output_type": "stream",
     "text": [
      "<class 'pandas.core.frame.DataFrame'>\n",
      "RangeIndex: 136522 entries, 0 to 136521\n",
      "Data columns (total 29 columns):\n",
      " #   Column                Non-Null Count   Dtype  \n",
      "---  ------                --------------   -----  \n",
      " 0   OBJECTID              136522 non-null  int64  \n",
      " 1   ISSUE_DATE            136522 non-null  object \n",
      " 2   ISSUE_TIME            136436 non-null  object \n",
      " 3   ISSUING_AGENCY_CODE   136498 non-null  float64\n",
      " 4   ISSUING_AGENCY_NAME   136498 non-null  object \n",
      " 5   ISSUING_AGENCY_SHORT  136498 non-null  object \n",
      " 6   VIOLATION_CODE        136522 non-null  object \n",
      " 7   VIOLATION_PROC_DESC   131860 non-null  object \n",
      " 8   LOCATION              136505 non-null  object \n",
      " 9   PLATE_STATE           136522 non-null  object \n",
      " 10  VEHICLE_TYPE          0 non-null       float64\n",
      " 11  MULTI_OWNER_NUMBER    6660 non-null    float64\n",
      " 12  DISPOSITION_CODE      57444 non-null   float64\n",
      " 13  DISPOSITION_TYPE      136522 non-null  object \n",
      " 14  DISPOSITION_DESC      57444 non-null   object \n",
      " 15  DISPOSITION_DATE      57444 non-null   object \n",
      " 16  FINE_AMOUNT           131762 non-null  float64\n",
      " 17  TOTAL_PAID            136522 non-null  int64  \n",
      " 18  PENALTY_1             56491 non-null   float64\n",
      " 19  PENALTY_2             0 non-null       float64\n",
      " 20  PENALTY_3             29089 non-null   float64\n",
      " 21  PENALTY_4             26 non-null      float64\n",
      " 22  PENALTY_5             0 non-null       float64\n",
      " 23  XCOORD                132334 non-null  float64\n",
      " 24  YCOORD                132334 non-null  float64\n",
      " 25  LATITUDE              132334 non-null  float64\n",
      " 26  LONGITUDE             132334 non-null  float64\n",
      " 27  MAR_ID                132334 non-null  float64\n",
      " 28  GIS_LAST_MOD_DTTM     136522 non-null  object \n",
      "dtypes: float64(15), int64(2), object(12)\n",
      "memory usage: 30.2+ MB\n"
     ]
    }
   ],
   "source": [
    "# dataset info\n",
    "parking_violations.info()"
   ]
  },
  {
   "cell_type": "markdown",
   "metadata": {},
   "source": [
    "## Observations\n",
    "\n",
    "Null fields:\n",
    "* VEHICLE_TYPE\n",
    "* PENALTY_1\n",
    "* PENALTY_2\n",
    "* PENALTY_3\n",
    "* PENALTY_4\n",
    "* PENALTY_5\n",
    "\n",
    "Disposition fields - determine significance of DISPOSITION_CODE, DISPOSITION_TYPE, DISPOSITION_DESC, DISPOSITION_DATE\n",
    "    \n",
    "Date fields that require additional review:\n",
    "* ISSUE_DATE - format\n",
    "* GIS_LAST_MOD_DTTM - format, determine unique values and overall relevance"
   ]
  },
  {
   "cell_type": "code",
   "execution_count": 4,
   "metadata": {},
   "outputs": [
    {
     "data": {
      "text/plain": [
       "array(['DEEMED LIABLE', nan, 'RECONSIDER DENIED', 'DISM NOI LATE HEARG',\n",
       "       'DISM NOI SUBM LATE', 'DISMISSED NO CASE', 'LIABLE',\n",
       "       'DISM MAKE MISMATCH', 'DISMISSED ON MERIT', 'DISM STOLEN RPT PROV',\n",
       "       'LIABLE PENALTY DISM', 'LIABLE FINE REDUCED', 'DISM NO VIOL CODE',\n",
       "       'DISM NO SIDE OF STR', 'DISM NO QUADRANT', 'DISM ILLEGIBLE DATA',\n",
       "       'RECONSIDER GRANTED', 'DISM NO LICNSE STATE', 'CONTINUED',\n",
       "       'CCU SETTLEMENT', 'DISM DATA ENTRY ERR', 'VOID REQUEST BY DPW',\n",
       "       'PARK MOBILE RECEIPT', 'LIABLE METER OUTAGE',\n",
       "       'DISM ROSA EXEMPTION', 'REMOVE PENALTY 1&2', 'DISM NO VEHCL MAKE',\n",
       "       'CONTINUE ROSA', 'EVIDENCE PER CODE', 'RECONDENY PENDISMIS',\n",
       "       'LIABLE FL TO PAY MET', 'APPEAL BACKOUT', 'DISM METER OUTAGE',\n",
       "       'APL CANCEL FILING', 'DISM WRONG LOCATION', 'DISM OFFICL GOVT BUS',\n",
       "       'LIAB DEFAULT DENIED', 'APPEAL REVERSE NOI', 'VOID REQUEST BY MPD',\n",
       "       'ADMINISTRATIVE DISM', 'APPEAL AFFIRM NOI', 'CCU MORCA SETTLEMENT',\n",
       "       'DISM INCORRECT TAG', 'CONT STOLEN REPORT', 'DISM NO DATE',\n",
       "       'DISM NO TIME', 'DISM NO SIGNATURE', 'CONT METER CHECK',\n",
       "       'DISM NO IMAGE/VIDEO', 'DISMISSED FUNERAL', 'DISM NO ACCDT REPORT',\n",
       "       'DISM OFFICER ABSENT', 'DISM INSPECT REQST',\n",
       "       'LIAB POINTS SUSPNDED', 'LIABL FAIL TO APPEAR',\n",
       "       'ADMIN FINE REDUCTION'], dtype=object)"
      ]
     },
     "execution_count": 4,
     "metadata": {},
     "output_type": "execute_result"
    }
   ],
   "source": [
    "# get values for disposition fields\n",
    "parking_violations['DISPOSITION_DESC'].unique()"
   ]
  },
  {
   "cell_type": "code",
   "execution_count": 6,
   "metadata": {},
   "outputs": [
    {
     "data": {
      "text/plain": [
       "array([           nan, 9.50368779e+08, 2.07110000e+07, ...,\n",
       "       9.50152495e+08, 9.50361956e+08, 9.50334466e+08])"
      ]
     },
     "execution_count": 6,
     "metadata": {},
     "output_type": "execute_result"
    }
   ],
   "source": [
    "parking_violations['MULTI_OWNER_NUMBER'].unique()"
   ]
  },
  {
   "cell_type": "code",
   "execution_count": 7,
   "metadata": {},
   "outputs": [
    {
     "data": {
      "text/plain": [
       "array(['2019/05/29 04:16:08+00'], dtype=object)"
      ]
     },
     "execution_count": 7,
     "metadata": {},
     "output_type": "execute_result"
    }
   ],
   "source": [
    "parking_violations['GIS_LAST_MOD_DTTM'].unique()"
   ]
  },
  {
   "cell_type": "code",
   "execution_count": 8,
   "metadata": {},
   "outputs": [
    {
     "data": {
      "text/plain": [
       "array([' ', 'VA', 'MD'], dtype=object)"
      ]
     },
     "execution_count": 8,
     "metadata": {},
     "output_type": "execute_result"
    }
   ],
   "source": [
    "parking_violations['PLATE_STATE'].unique()"
   ]
  },
  {
   "cell_type": "code",
   "execution_count": 9,
   "metadata": {},
   "outputs": [
    {
     "data": {
      "text/plain": [
       "array(['P344', 'P014', 'P269', 'P170', 'P259', 'P039', 'P002', 'P036',\n",
       "       'P007', 'P302', 'P304', 'P050', 'P055', 'P360', 'P041', 'P012',\n",
       "       'P288', 'P159', 'P046', 'P059', 'P429', 'P013', 'P011', 'P031',\n",
       "       'P045', 'P365', 'P428', 'P047', 'P001', 'P057', 'P332', 'P020',\n",
       "       'P015', 'P303', 'NO VIOL', 'P316', 'P318', 'P029', 'P025', 'P024',\n",
       "       'P168', 'P198', 'P334', 'P322', 'P034', 'P005', 'P017', 'P270',\n",
       "       'P023', 'P004', 'P042', 'P346', 'P056', 'P003', 'P417', 'P206',\n",
       "       'P386', 'P173', 'P113', 'P076', 'P172', 'P035', 'P037', 'P112',\n",
       "       'P281', 'P199', 'P285', 'P307', 'P280', 'P430', 'P216', 'P010',\n",
       "       'P287', 'P385', 'P022', 'P271', 'P320', 'P282', 'P278', 'P043',\n",
       "       'P054', 'P111', 'P306', 'P314', 'P418', 'P032', 'P077', 'P431',\n",
       "       'P040', 'P419', 'P403', 'P432', 'P312', 'P026', 'P169', 'P239',\n",
       "       'P072', 'P058', 'P019', 'P410', 'P038', 'P213', 'P319', 'P310',\n",
       "       'P016', 'P284', 'P413', 'P093', 'P309', 'P301', 'P363', 'P371',\n",
       "       'P218', 'P122', 'P407', 'P027', 'P051', 'P104', 'P028', 'P311',\n",
       "       'P053', 'P300', 'P021', 'P313', 'P120', 'P330', 'P123', 'P125',\n",
       "       'P361', 'P190', 'P327', 'P191', 'P326', 'P150', 'P148', 'P192',\n",
       "       'P315'], dtype=object)"
      ]
     },
     "execution_count": 9,
     "metadata": {},
     "output_type": "execute_result"
    }
   ],
   "source": [
    "parking_violations['VIOLATION_CODE'].unique()"
   ]
  },
  {
   "cell_type": "code",
   "execution_count": 10,
   "metadata": {},
   "outputs": [
    {
     "data": {
      "text/plain": [
       "array([ 250.,   nan,   50.,  100.,   25.,   30.,  150.,   20.,   60.,\n",
       "        500.,   75.,   35.,   45.,   65., 1000.,   15.,   10.,    5.,\n",
       "        200.])"
      ]
     },
     "execution_count": 10,
     "metadata": {},
     "output_type": "execute_result"
    }
   ],
   "source": [
    "parking_violations['FINE_AMOUNT'].unique()"
   ]
  },
  {
   "cell_type": "code",
   "execution_count": 11,
   "metadata": {},
   "outputs": [
    {
     "data": {
      "image/png": "[encoded data removed]",
      "text/plain": [
       "<Figure size 1440x1080 with 16 Axes>"
      ]
     },
     "metadata": {
      "needs_background": "light"
     },
     "output_type": "display_data"
    }
   ],
   "source": [
    "import matplotlib.pyplot as plt\n",
    "%matplotlib inline \n",
    "parking_violations.hist(bins=50, figsize=(20,15)) \n",
    "plt.show()"
   ]
  },
  {
   "cell_type": "code",
   "execution_count": 12,
   "metadata": {},
   "outputs": [
    {
     "data": {
      "text/plain": [
       "<AxesSubplot:ylabel='Frequency'>"
      ]
     },
     "execution_count": 12,
     "metadata": {},
     "output_type": "execute_result"
    },
    {
     "data": {
      "image/png": "[encoded data removed]",
      "text/plain": [
       "<Figure size 432x288 with 1 Axes>"
      ]
     },
     "metadata": {
      "needs_background": "light"
     },
     "output_type": "display_data"
    }
   ],
   "source": [
    "parking_violations['PLATE_STATE'].value_counts().plot.hist()"
   ]
  },
  {
   "cell_type": "code",
   "execution_count": null,
   "metadata": {},
   "outputs": [],
   "source": []
  }
 ],
 "metadata": {
  "kernelspec": {
   "display_name": "Python 3",
   "language": "python",
   "name": "python3"
  },
  "language_info": {
   "codemirror_mode": {
    "name": "ipython",
    "version": 3
   },
   "file_extension": ".py",
   "mimetype": "text/x-python",
   "name": "python",
   "nbconvert_exporter": "python",
   "pygments_lexer": "ipython3",
   "version": "3.8.5"
  }
 },
 "nbformat": 4,
 "nbformat_minor": 4
}
