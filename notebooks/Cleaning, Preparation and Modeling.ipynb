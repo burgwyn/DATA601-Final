{
 "cells": [
  {
   "cell_type": "code",
   "execution_count": 3,
   "metadata": {},
   "outputs": [],
   "source": [
    "# load pandas for data analysis\n",
    "import pandas as pd\n",
    "\n",
    "# load dataset\n",
    "df = pd.read_csv('../data/sample/August_2018.csv')"
   ]
  },
  {
   "cell_type": "code",
   "execution_count": 4,
   "metadata": {},
   "outputs": [
    {
     "data": {
      "text/plain": "               ISSUE_DATE ISSUE_TIME  ISSUING_AGENCY_CODE  \\\n0  2018/08/24 04:00:00+00   01:46 PM                    7   \n1  2018/08/09 04:00:00+00   07:13 AM                   25   \n2  2018/08/23 04:00:00+00   08:56 AM                   59   \n3  2018/08/26 04:00:00+00   08:55 AM                   59   \n4  2018/08/07 04:00:00+00   02:45 AM                    2   \n\n                   ISSUING_AGENCY_NAME ISSUING_AGENCY_SHORT VIOLATION_CODE  \\\n0   METROPOLITAN POLICE DPT-DISTRICT 7               MPD-7D           P344   \n1  SPECIAL OPERATION DIV & TRAFFIC DIV              MPD-SOD           P014   \n2  US. BUREAU OF ENGRAVING AND PRINTNG                  BEP           P269   \n3  US. BUREAU OF ENGRAVING AND PRINTNG                  BEP           P170   \n4   METROPOLITAN POLICE DPT-DISTRICT 2               MPD-2D           P344   \n\n                                 VIOLATION_PROC_DESC             LOCATION  \\\n0  VEHICLE ON PRIVATE/PUBLIC PROPERTY WITHOUT CON...       4205 4TH ST SE   \n1                               EMERGENCY NO PARKING          700 F ST NW   \n2                                NO STANDING ANYTIME   400 14 & MAINAV SW   \n3                    FAILURE TO DISPLAY CURRENT TAGS     1200 BLK D ST SW   \n4  VEHICLE ON PRIVATE/PUBLIC PROPERTY WITHOUT CON...  100 MICHIGAN AVE NE   \n\n  PLATE_STATE  FINE_AMOUNT  TOTAL_PAID    XCOORD    YCOORD  LATITUDE  \\\n0                    250.0       250.0  399920.0  129047.0    38.829   \n1                      NaN         0.0  398051.0  136571.0    38.897   \n2                     50.0       100.0       NaN       NaN       NaN   \n3                    100.0       100.0  397495.0  135237.0    38.885   \n4                    250.0       250.0  399463.0  139951.0    38.927   \n\n   LONGITUDE    MAR_ID FORMAT_DATE FORMAT_TIME  \n0    -77.001  147401.0  2018-08-24    13:46:00  \n1    -77.022  301590.0  2018-08-09    07:13:00  \n2        NaN       NaN  2018-08-23    08:56:00  \n3    -77.029  803862.0  2018-08-26    08:55:00  \n4    -77.006  146162.0  2018-08-07    02:45:00  ",
      "text/html": "<div>\n<style scoped>\n    .dataframe tbody tr th:only-of-type {\n        vertical-align: middle;\n    }\n\n    .dataframe tbody tr th {\n        vertical-align: top;\n    }\n\n    .dataframe thead th {\n        text-align: right;\n    }\n</style>\n<table border=\"1\" class=\"dataframe\">\n  <thead>\n    <tr style=\"text-align: right;\">\n      <th></th>\n      <th>ISSUE_DATE</th>\n      <th>ISSUE_TIME</th>\n      <th>ISSUING_AGENCY_CODE</th>\n      <th>ISSUING_AGENCY_NAME</th>\n      <th>ISSUING_AGENCY_SHORT</th>\n      <th>VIOLATION_CODE</th>\n      <th>VIOLATION_PROC_DESC</th>\n      <th>LOCATION</th>\n      <th>PLATE_STATE</th>\n      <th>FINE_AMOUNT</th>\n      <th>TOTAL_PAID</th>\n      <th>XCOORD</th>\n      <th>YCOORD</th>\n      <th>LATITUDE</th>\n      <th>LONGITUDE</th>\n      <th>MAR_ID</th>\n      <th>FORMAT_DATE</th>\n      <th>FORMAT_TIME</th>\n    </tr>\n  </thead>\n  <tbody>\n    <tr>\n      <th>0</th>\n      <td>2018/08/24 04:00:00+00</td>\n      <td>01:46 PM</td>\n      <td>7</td>\n      <td>METROPOLITAN POLICE DPT-DISTRICT 7</td>\n      <td>MPD-7D</td>\n      <td>P344</td>\n      <td>VEHICLE ON PRIVATE/PUBLIC PROPERTY WITHOUT CON...</td>\n      <td>4205 4TH ST SE</td>\n      <td></td>\n      <td>250.0</td>\n      <td>250.0</td>\n      <td>399920.0</td>\n      <td>129047.0</td>\n      <td>38.829</td>\n      <td>-77.001</td>\n      <td>147401.0</td>\n      <td>2018-08-24</td>\n      <td>13:46:00</td>\n    </tr>\n    <tr>\n      <th>1</th>\n      <td>2018/08/09 04:00:00+00</td>\n      <td>07:13 AM</td>\n      <td>25</td>\n      <td>SPECIAL OPERATION DIV &amp; TRAFFIC DIV</td>\n      <td>MPD-SOD</td>\n      <td>P014</td>\n      <td>EMERGENCY NO PARKING</td>\n      <td>700 F ST NW</td>\n      <td></td>\n      <td>NaN</td>\n      <td>0.0</td>\n      <td>398051.0</td>\n      <td>136571.0</td>\n      <td>38.897</td>\n      <td>-77.022</td>\n      <td>301590.0</td>\n      <td>2018-08-09</td>\n      <td>07:13:00</td>\n    </tr>\n    <tr>\n      <th>2</th>\n      <td>2018/08/23 04:00:00+00</td>\n      <td>08:56 AM</td>\n      <td>59</td>\n      <td>US. BUREAU OF ENGRAVING AND PRINTNG</td>\n      <td>BEP</td>\n      <td>P269</td>\n      <td>NO STANDING ANYTIME</td>\n      <td>400 14 &amp; MAINAV SW</td>\n      <td></td>\n      <td>50.0</td>\n      <td>100.0</td>\n      <td>NaN</td>\n      <td>NaN</td>\n      <td>NaN</td>\n      <td>NaN</td>\n      <td>NaN</td>\n      <td>2018-08-23</td>\n      <td>08:56:00</td>\n    </tr>\n    <tr>\n      <th>3</th>\n      <td>2018/08/26 04:00:00+00</td>\n      <td>08:55 AM</td>\n      <td>59</td>\n      <td>US. BUREAU OF ENGRAVING AND PRINTNG</td>\n      <td>BEP</td>\n      <td>P170</td>\n      <td>FAILURE TO DISPLAY CURRENT TAGS</td>\n      <td>1200 BLK D ST SW</td>\n      <td></td>\n      <td>100.0</td>\n      <td>100.0</td>\n      <td>397495.0</td>\n      <td>135237.0</td>\n      <td>38.885</td>\n      <td>-77.029</td>\n      <td>803862.0</td>\n      <td>2018-08-26</td>\n      <td>08:55:00</td>\n    </tr>\n    <tr>\n      <th>4</th>\n      <td>2018/08/07 04:00:00+00</td>\n      <td>02:45 AM</td>\n      <td>2</td>\n      <td>METROPOLITAN POLICE DPT-DISTRICT 2</td>\n      <td>MPD-2D</td>\n      <td>P344</td>\n      <td>VEHICLE ON PRIVATE/PUBLIC PROPERTY WITHOUT CON...</td>\n      <td>100 MICHIGAN AVE NE</td>\n      <td></td>\n      <td>250.0</td>\n      <td>250.0</td>\n      <td>399463.0</td>\n      <td>139951.0</td>\n      <td>38.927</td>\n      <td>-77.006</td>\n      <td>146162.0</td>\n      <td>2018-08-07</td>\n      <td>02:45:00</td>\n    </tr>\n  </tbody>\n</table>\n</div>"
     },
     "execution_count": 4,
     "metadata": {},
     "output_type": "execute_result"
    }
   ],
   "source": [
    "# head of dataset\n",
    "df.head()"
   ]
  },
  {
   "cell_type": "code",
   "execution_count": 5,
   "metadata": {},
   "outputs": [
    {
     "name": "stdout",
     "output_type": "stream",
     "text": [
      "<class 'pandas.core.frame.DataFrame'>\n",
      "RangeIndex: 3699 entries, 0 to 3698\n",
      "Data columns (total 18 columns):\n",
      " #   Column                Non-Null Count  Dtype  \n",
      "---  ------                --------------  -----  \n",
      " 0   ISSUE_DATE            3699 non-null   object \n",
      " 1   ISSUE_TIME            3699 non-null   object \n",
      " 2   ISSUING_AGENCY_CODE   3699 non-null   int64  \n",
      " 3   ISSUING_AGENCY_NAME   3699 non-null   object \n",
      " 4   ISSUING_AGENCY_SHORT  3699 non-null   object \n",
      " 5   VIOLATION_CODE        3699 non-null   object \n",
      " 6   VIOLATION_PROC_DESC   3589 non-null   object \n",
      " 7   LOCATION              3696 non-null   object \n",
      " 8   PLATE_STATE           3698 non-null   object \n",
      " 9   FINE_AMOUNT           3568 non-null   float64\n",
      " 10  TOTAL_PAID            3698 non-null   float64\n",
      " 11  XCOORD                3531 non-null   float64\n",
      " 12  YCOORD                3531 non-null   float64\n",
      " 13  LATITUDE              3531 non-null   float64\n",
      " 14  LONGITUDE             3531 non-null   float64\n",
      " 15  MAR_ID                3531 non-null   float64\n",
      " 16  FORMAT_DATE           3699 non-null   object \n",
      " 17  FORMAT_TIME           3699 non-null   object \n",
      "dtypes: float64(7), int64(1), object(10)\n",
      "memory usage: 520.3+ KB\n"
     ]
    }
   ],
   "source": [
    "# dataset info\n",
    "df.info()"
   ]
  },
  {
   "cell_type": "code",
   "execution_count": 5,
   "metadata": {},
   "outputs": [],
   "source": []
  }
 ],
 "metadata": {
  "kernelspec": {
   "display_name": "Python 3",
   "language": "python",
   "name": "python3"
  },
  "language_info": {
   "codemirror_mode": {
    "name": "ipython",
    "version": 3
   },
   "file_extension": ".py",
   "mimetype": "text/x-python",
   "name": "python",
   "nbconvert_exporter": "python",
   "pygments_lexer": "ipython3",
   "version": "3.8.3"
  }
 },
 "nbformat": 4,
 "nbformat_minor": 1
}