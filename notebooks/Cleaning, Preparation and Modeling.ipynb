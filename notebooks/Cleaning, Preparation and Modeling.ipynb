{
 "cells": [
  {
   "cell_type": "markdown",
   "metadata": {},
   "source": [
    "# Cleaning, Preparation and Modeling"
   ]
  },
  {
   "cell_type": "code",
   "execution_count": 71,
   "metadata": {},
   "outputs": [],
   "source": [
    "# load pandas for data analysis\n",
    "import pandas as pd\n",
    "\n",
    "# load dataset\n",
    "parking_violations = pd.read_csv('../data/sample/Parking_Violations_Issued_in_August_2018.csv')"
   ]
  },
  {
   "cell_type": "code",
   "execution_count": 72,
   "metadata": {},
   "outputs": [
    {
     "data": {
      "text/html": [
       "<div>\n",
       "<style scoped>\n",
       "    .dataframe tbody tr th:only-of-type {\n",
       "        vertical-align: middle;\n",
       "    }\n",
       "\n",
       "    .dataframe tbody tr th {\n",
       "        vertical-align: top;\n",
       "    }\n",
       "\n",
       "    .dataframe thead th {\n",
       "        text-align: right;\n",
       "    }\n",
       "</style>\n",
       "<table border=\"1\" class=\"dataframe\">\n",
       "  <thead>\n",
       "    <tr style=\"text-align: right;\">\n",
       "      <th></th>\n",
       "      <th>OBJECTID</th>\n",
       "      <th>ISSUE_DATE</th>\n",
       "      <th>ISSUE_TIME</th>\n",
       "      <th>ISSUING_AGENCY_CODE</th>\n",
       "      <th>ISSUING_AGENCY_NAME</th>\n",
       "      <th>ISSUING_AGENCY_SHORT</th>\n",
       "      <th>VIOLATION_CODE</th>\n",
       "      <th>VIOLATION_PROC_DESC</th>\n",
       "      <th>LOCATION</th>\n",
       "      <th>PLATE_STATE</th>\n",
       "      <th>...</th>\n",
       "      <th>PENALTY_2</th>\n",
       "      <th>PENALTY_3</th>\n",
       "      <th>PENALTY_4</th>\n",
       "      <th>PENALTY_5</th>\n",
       "      <th>XCOORD</th>\n",
       "      <th>YCOORD</th>\n",
       "      <th>LATITUDE</th>\n",
       "      <th>LONGITUDE</th>\n",
       "      <th>MAR_ID</th>\n",
       "      <th>GIS_LAST_MOD_DTTM</th>\n",
       "    </tr>\n",
       "  </thead>\n",
       "  <tbody>\n",
       "    <tr>\n",
       "      <th>0</th>\n",
       "      <td>290490</td>\n",
       "      <td>2018/08/24 04:00:00+00</td>\n",
       "      <td>01:44 AM</td>\n",
       "      <td>7.0</td>\n",
       "      <td>METROPOLITAN POLICE DPT-DISTRICT 7</td>\n",
       "      <td>MPD-7D</td>\n",
       "      <td>P344</td>\n",
       "      <td>VEHICLE ON PRIVATE/PUBLIC PROPERTY WITHOUT CON...</td>\n",
       "      <td>4205 4TH ST SE</td>\n",
       "      <td></td>\n",
       "      <td>...</td>\n",
       "      <td>NaN</td>\n",
       "      <td>1.0</td>\n",
       "      <td>NaN</td>\n",
       "      <td>NaN</td>\n",
       "      <td>399920.0</td>\n",
       "      <td>129047.0</td>\n",
       "      <td>38.829</td>\n",
       "      <td>-77.001</td>\n",
       "      <td>147401.0</td>\n",
       "      <td>2019/05/29 04:16:08+00</td>\n",
       "    </tr>\n",
       "    <tr>\n",
       "      <th>1</th>\n",
       "      <td>290491</td>\n",
       "      <td>2018/08/24 04:00:00+00</td>\n",
       "      <td>01:46 PM</td>\n",
       "      <td>7.0</td>\n",
       "      <td>METROPOLITAN POLICE DPT-DISTRICT 7</td>\n",
       "      <td>MPD-7D</td>\n",
       "      <td>P344</td>\n",
       "      <td>VEHICLE ON PRIVATE/PUBLIC PROPERTY WITHOUT CON...</td>\n",
       "      <td>4205 4TH ST SE</td>\n",
       "      <td></td>\n",
       "      <td>...</td>\n",
       "      <td>NaN</td>\n",
       "      <td>NaN</td>\n",
       "      <td>NaN</td>\n",
       "      <td>NaN</td>\n",
       "      <td>399920.0</td>\n",
       "      <td>129047.0</td>\n",
       "      <td>38.829</td>\n",
       "      <td>-77.001</td>\n",
       "      <td>147401.0</td>\n",
       "      <td>2019/05/29 04:16:08+00</td>\n",
       "    </tr>\n",
       "    <tr>\n",
       "      <th>2</th>\n",
       "      <td>290492</td>\n",
       "      <td>2018/08/24 04:00:00+00</td>\n",
       "      <td>02:20 AM</td>\n",
       "      <td>7.0</td>\n",
       "      <td>METROPOLITAN POLICE DPT-DISTRICT 7</td>\n",
       "      <td>MPD-7D</td>\n",
       "      <td>P344</td>\n",
       "      <td>VEHICLE ON PRIVATE/PUBLIC PROPERTY WITHOUT CON...</td>\n",
       "      <td>4329 4TH ST SE</td>\n",
       "      <td></td>\n",
       "      <td>...</td>\n",
       "      <td>NaN</td>\n",
       "      <td>1.0</td>\n",
       "      <td>NaN</td>\n",
       "      <td>NaN</td>\n",
       "      <td>399867.0</td>\n",
       "      <td>128923.0</td>\n",
       "      <td>38.828</td>\n",
       "      <td>-77.002</td>\n",
       "      <td>147406.0</td>\n",
       "      <td>2019/05/29 04:16:08+00</td>\n",
       "    </tr>\n",
       "    <tr>\n",
       "      <th>3</th>\n",
       "      <td>290493</td>\n",
       "      <td>2018/08/24 04:00:00+00</td>\n",
       "      <td>02:25 AM</td>\n",
       "      <td>7.0</td>\n",
       "      <td>METROPOLITAN POLICE DPT-DISTRICT 7</td>\n",
       "      <td>MPD-7D</td>\n",
       "      <td>P344</td>\n",
       "      <td>VEHICLE ON PRIVATE/PUBLIC PROPERTY WITHOUT CON...</td>\n",
       "      <td>4221 4TH ST SE</td>\n",
       "      <td></td>\n",
       "      <td>...</td>\n",
       "      <td>NaN</td>\n",
       "      <td>1.0</td>\n",
       "      <td>NaN</td>\n",
       "      <td>NaN</td>\n",
       "      <td>399923.0</td>\n",
       "      <td>128963.0</td>\n",
       "      <td>38.828</td>\n",
       "      <td>-77.001</td>\n",
       "      <td>147405.0</td>\n",
       "      <td>2019/05/29 04:16:08+00</td>\n",
       "    </tr>\n",
       "    <tr>\n",
       "      <th>4</th>\n",
       "      <td>290494</td>\n",
       "      <td>2018/08/24 04:00:00+00</td>\n",
       "      <td>03:20 AM</td>\n",
       "      <td>7.0</td>\n",
       "      <td>METROPOLITAN POLICE DPT-DISTRICT 7</td>\n",
       "      <td>MPD-7D</td>\n",
       "      <td>P344</td>\n",
       "      <td>VEHICLE ON PRIVATE/PUBLIC PROPERTY WITHOUT CON...</td>\n",
       "      <td>4337 4TH ST SE</td>\n",
       "      <td></td>\n",
       "      <td>...</td>\n",
       "      <td>NaN</td>\n",
       "      <td>NaN</td>\n",
       "      <td>NaN</td>\n",
       "      <td>NaN</td>\n",
       "      <td>399860.0</td>\n",
       "      <td>128878.0</td>\n",
       "      <td>38.828</td>\n",
       "      <td>-77.002</td>\n",
       "      <td>147392.0</td>\n",
       "      <td>2019/05/29 04:16:08+00</td>\n",
       "    </tr>\n",
       "  </tbody>\n",
       "</table>\n",
       "<p>5 rows × 29 columns</p>\n",
       "</div>"
      ],
      "text/plain": [
       "   OBJECTID              ISSUE_DATE ISSUE_TIME  ISSUING_AGENCY_CODE  \\\n",
       "0    290490  2018/08/24 04:00:00+00   01:44 AM                  7.0   \n",
       "1    290491  2018/08/24 04:00:00+00   01:46 PM                  7.0   \n",
       "2    290492  2018/08/24 04:00:00+00   02:20 AM                  7.0   \n",
       "3    290493  2018/08/24 04:00:00+00   02:25 AM                  7.0   \n",
       "4    290494  2018/08/24 04:00:00+00   03:20 AM                  7.0   \n",
       "\n",
       "                  ISSUING_AGENCY_NAME ISSUING_AGENCY_SHORT VIOLATION_CODE  \\\n",
       "0  METROPOLITAN POLICE DPT-DISTRICT 7               MPD-7D           P344   \n",
       "1  METROPOLITAN POLICE DPT-DISTRICT 7               MPD-7D           P344   \n",
       "2  METROPOLITAN POLICE DPT-DISTRICT 7               MPD-7D           P344   \n",
       "3  METROPOLITAN POLICE DPT-DISTRICT 7               MPD-7D           P344   \n",
       "4  METROPOLITAN POLICE DPT-DISTRICT 7               MPD-7D           P344   \n",
       "\n",
       "                                 VIOLATION_PROC_DESC        LOCATION  \\\n",
       "0  VEHICLE ON PRIVATE/PUBLIC PROPERTY WITHOUT CON...  4205 4TH ST SE   \n",
       "1  VEHICLE ON PRIVATE/PUBLIC PROPERTY WITHOUT CON...  4205 4TH ST SE   \n",
       "2  VEHICLE ON PRIVATE/PUBLIC PROPERTY WITHOUT CON...  4329 4TH ST SE   \n",
       "3  VEHICLE ON PRIVATE/PUBLIC PROPERTY WITHOUT CON...  4221 4TH ST SE   \n",
       "4  VEHICLE ON PRIVATE/PUBLIC PROPERTY WITHOUT CON...  4337 4TH ST SE   \n",
       "\n",
       "  PLATE_STATE  ...  PENALTY_2  PENALTY_3  PENALTY_4 PENALTY_5    XCOORD  \\\n",
       "0              ...        NaN        1.0        NaN       NaN  399920.0   \n",
       "1              ...        NaN        NaN        NaN       NaN  399920.0   \n",
       "2              ...        NaN        1.0        NaN       NaN  399867.0   \n",
       "3              ...        NaN        1.0        NaN       NaN  399923.0   \n",
       "4              ...        NaN        NaN        NaN       NaN  399860.0   \n",
       "\n",
       "     YCOORD  LATITUDE  LONGITUDE    MAR_ID       GIS_LAST_MOD_DTTM  \n",
       "0  129047.0    38.829    -77.001  147401.0  2019/05/29 04:16:08+00  \n",
       "1  129047.0    38.829    -77.001  147401.0  2019/05/29 04:16:08+00  \n",
       "2  128923.0    38.828    -77.002  147406.0  2019/05/29 04:16:08+00  \n",
       "3  128963.0    38.828    -77.001  147405.0  2019/05/29 04:16:08+00  \n",
       "4  128878.0    38.828    -77.002  147392.0  2019/05/29 04:16:08+00  \n",
       "\n",
       "[5 rows x 29 columns]"
      ]
     },
     "execution_count": 72,
     "metadata": {},
     "output_type": "execute_result"
    }
   ],
   "source": [
    "# head of dataset\n",
    "parking_violations.head()"
   ]
  },
  {
   "cell_type": "code",
   "execution_count": 73,
   "metadata": {},
   "outputs": [
    {
     "name": "stdout",
     "output_type": "stream",
     "text": [
      "<class 'pandas.core.frame.DataFrame'>\n",
      "RangeIndex: 136522 entries, 0 to 136521\n",
      "Data columns (total 29 columns):\n",
      " #   Column                Non-Null Count   Dtype  \n",
      "---  ------                --------------   -----  \n",
      " 0   OBJECTID              136522 non-null  int64  \n",
      " 1   ISSUE_DATE            136522 non-null  object \n",
      " 2   ISSUE_TIME            136436 non-null  object \n",
      " 3   ISSUING_AGENCY_CODE   136498 non-null  float64\n",
      " 4   ISSUING_AGENCY_NAME   136498 non-null  object \n",
      " 5   ISSUING_AGENCY_SHORT  136498 non-null  object \n",
      " 6   VIOLATION_CODE        136522 non-null  object \n",
      " 7   VIOLATION_PROC_DESC   131860 non-null  object \n",
      " 8   LOCATION              136505 non-null  object \n",
      " 9   PLATE_STATE           136522 non-null  object \n",
      " 10  VEHICLE_TYPE          0 non-null       float64\n",
      " 11  MULTI_OWNER_NUMBER    6660 non-null    float64\n",
      " 12  DISPOSITION_CODE      57444 non-null   float64\n",
      " 13  DISPOSITION_TYPE      136522 non-null  object \n",
      " 14  DISPOSITION_DESC      57444 non-null   object \n",
      " 15  DISPOSITION_DATE      57444 non-null   object \n",
      " 16  FINE_AMOUNT           131762 non-null  float64\n",
      " 17  TOTAL_PAID            136522 non-null  int64  \n",
      " 18  PENALTY_1             56491 non-null   float64\n",
      " 19  PENALTY_2             0 non-null       float64\n",
      " 20  PENALTY_3             29089 non-null   float64\n",
      " 21  PENALTY_4             26 non-null      float64\n",
      " 22  PENALTY_5             0 non-null       float64\n",
      " 23  XCOORD                132334 non-null  float64\n",
      " 24  YCOORD                132334 non-null  float64\n",
      " 25  LATITUDE              132334 non-null  float64\n",
      " 26  LONGITUDE             132334 non-null  float64\n",
      " 27  MAR_ID                132334 non-null  float64\n",
      " 28  GIS_LAST_MOD_DTTM     136522 non-null  object \n",
      "dtypes: float64(15), int64(2), object(12)\n",
      "memory usage: 30.2+ MB\n"
     ]
    }
   ],
   "source": [
    "# dataset info\n",
    "parking_violations.info()"
   ]
  },
  {
   "cell_type": "markdown",
   "metadata": {},
   "source": [
    "## Observations\n",
    "\n",
    "Null fields:\n",
    "* VEHICLE_TYPE\n",
    "* PENALTY_1\n",
    "* PENALTY_2\n",
    "* PENALTY_3\n",
    "* PENALTY_4\n",
    "* PENALTY_5\n",
    "\n",
    "Disposition fields - determine significance of DISPOSITION_CODE, DISPOSITION_TYPE, DISPOSITION_DESC, DISPOSITION_DATE\n",
    "    \n",
    "Date fields that require additional review:\n",
    "* ISSUE_DATE - format\n",
    "* GIS_LAST_MOD_DTTM - format, determine unique values and overall relevance\n",
    "    "
   ]
  },
  {
   "cell_type": "code",
   "execution_count": 74,
   "metadata": {},
   "outputs": [],
   "source": [
    "# drop null columns\n",
    "parking_violations.drop(['VEHICLE_TYPE', 'PENALTY_1', 'PENALTY_2', 'PENALTY_3', 'PENALTY_4', 'PENALTY_5'], axis=1, inplace=True)"
   ]
  },
  {
   "cell_type": "code",
   "execution_count": 75,
   "metadata": {},
   "outputs": [],
   "source": [
    "# dispositions are dismissed tickets\n",
    "# remove records with dispositions\n",
    "parking_violations = parking_violations[parking_violations['DISPOSITION_DESC'].isna()]\n",
    "\n",
    "# drop disposition columns\n",
    "parking_violations.drop(['DISPOSITION_CODE', 'DISPOSITION_TYPE', 'DISPOSITION_DESC', 'DISPOSITION_DATE'], axis=1, inplace=True)"
   ]
  },
  {
   "cell_type": "code",
   "execution_count": 76,
   "metadata": {},
   "outputs": [
    {
     "data": {
      "text/plain": [
       "array([           nan, 9.50368779e+08, 2.07110000e+07, ...,\n",
       "       9.50152495e+08, 9.50361956e+08, 9.50334466e+08])"
      ]
     },
     "execution_count": 76,
     "metadata": {},
     "output_type": "execute_result"
    }
   ],
   "source": [
    "parking_violations['MULTI_OWNER_NUMBER'].unique()"
   ]
  },
  {
   "cell_type": "code",
   "execution_count": 77,
   "metadata": {},
   "outputs": [],
   "source": [
    "parking_violations.drop('MULTI_OWNER_NUMBER', axis=1, inplace=True)"
   ]
  },
  {
   "cell_type": "code",
   "execution_count": 78,
   "metadata": {},
   "outputs": [
    {
     "data": {
      "text/plain": [
       "array(['2019/05/29 04:16:08+00'], dtype=object)"
      ]
     },
     "execution_count": 78,
     "metadata": {},
     "output_type": "execute_result"
    }
   ],
   "source": [
    "parking_violations['GIS_LAST_MOD_DTTM'].unique()"
   ]
  },
  {
   "cell_type": "code",
   "execution_count": 79,
   "metadata": {},
   "outputs": [],
   "source": [
    "# column has a single value, drop it\n",
    "parking_violations.drop('GIS_LAST_MOD_DTTM', axis=1, inplace=True)"
   ]
  },
  {
   "cell_type": "code",
   "execution_count": 80,
   "metadata": {},
   "outputs": [
    {
     "data": {
      "text/plain": [
       "array([' ', 'VA', 'MD'], dtype=object)"
      ]
     },
     "execution_count": 80,
     "metadata": {},
     "output_type": "execute_result"
    }
   ],
   "source": [
    "parking_violations['PLATE_STATE'].unique()"
   ]
  },
  {
   "cell_type": "code",
   "execution_count": 81,
   "metadata": {},
   "outputs": [],
   "source": [
    "parking_violations.drop('PLATE_STATE', axis=1, inplace=True)"
   ]
  },
  {
   "cell_type": "code",
   "execution_count": 82,
   "metadata": {},
   "outputs": [],
   "source": [
    "parking_violations.drop('VIOLATION_PROC_DESC', axis=1, inplace=True)"
   ]
  },
  {
   "cell_type": "code",
   "execution_count": 83,
   "metadata": {},
   "outputs": [],
   "source": [
    "parking_violations.drop(['XCOORD', 'YCOORD', 'MAR_ID', 'OBJECTID'], axis=1, inplace=True)"
   ]
  },
  {
   "cell_type": "code",
   "execution_count": 84,
   "metadata": {},
   "outputs": [],
   "source": [
    "# resolve date fields\n",
    "from dateutil.parser import parse\n",
    "\n",
    "\n",
    "def format_date(date_str):\n",
    "    return parse(date_str).date()\n",
    "\n",
    "\n",
    "def format_time(time_str):\n",
    "    return parse(time_str).time()"
   ]
  },
  {
   "cell_type": "code",
   "execution_count": 85,
   "metadata": {},
   "outputs": [],
   "source": [
    "parking_violations['FORMAT_DATE'] = parking_violations.apply(lambda x: format_date(x['ISSUE_DATE']), axis=1)"
   ]
  },
  {
   "cell_type": "code",
   "execution_count": 86,
   "metadata": {},
   "outputs": [],
   "source": [
    "parking_violations.dropna(subset=['ISSUE_TIME'], inplace=True)"
   ]
  },
  {
   "cell_type": "code",
   "execution_count": 87,
   "metadata": {},
   "outputs": [],
   "source": [
    "parking_violations['FORMAT_TIME'] = parking_violations.apply(lambda x: format_time(x['ISSUE_TIME']), axis=1)"
   ]
  },
  {
   "cell_type": "code",
   "execution_count": 88,
   "metadata": {},
   "outputs": [],
   "source": [
    "# drop rows with nulls in meaningful dimensions\n",
    "parking_violations.dropna(subset=['ISSUING_AGENCY_CODE', 'LATITUDE', 'LONGITUDE'], inplace=True)"
   ]
  },
  {
   "cell_type": "code",
   "execution_count": 89,
   "metadata": {},
   "outputs": [],
   "source": [
    "# cast ISSUING_AGENCY_CODE to int\n",
    "parking_violations['ISSUING_AGENCY_CODE'] = parking_violations['ISSUING_AGENCY_CODE'].astype('int')"
   ]
  },
  {
   "cell_type": "code",
   "execution_count": 90,
   "metadata": {},
   "outputs": [],
   "source": [
    "# cast FINE_AMOUNT to int\n",
    "parking_violations['FINE_AMOUNT'].fillna(0, inplace=True)\n",
    "parking_violations['FINE_AMOUNT'] = parking_violations['FINE_AMOUNT'].astype('int')"
   ]
  },
  {
   "cell_type": "code",
   "execution_count": 91,
   "metadata": {},
   "outputs": [
    {
     "data": {
      "text/html": [
       "<div>\n",
       "<style scoped>\n",
       "    .dataframe tbody tr th:only-of-type {\n",
       "        vertical-align: middle;\n",
       "    }\n",
       "\n",
       "    .dataframe tbody tr th {\n",
       "        vertical-align: top;\n",
       "    }\n",
       "\n",
       "    .dataframe thead th {\n",
       "        text-align: right;\n",
       "    }\n",
       "</style>\n",
       "<table border=\"1\" class=\"dataframe\">\n",
       "  <thead>\n",
       "    <tr style=\"text-align: right;\">\n",
       "      <th></th>\n",
       "      <th>ISSUE_DATE</th>\n",
       "      <th>ISSUE_TIME</th>\n",
       "      <th>ISSUING_AGENCY_CODE</th>\n",
       "      <th>ISSUING_AGENCY_NAME</th>\n",
       "      <th>ISSUING_AGENCY_SHORT</th>\n",
       "      <th>VIOLATION_CODE</th>\n",
       "      <th>LOCATION</th>\n",
       "      <th>FINE_AMOUNT</th>\n",
       "      <th>TOTAL_PAID</th>\n",
       "      <th>LATITUDE</th>\n",
       "      <th>LONGITUDE</th>\n",
       "      <th>FORMAT_DATE</th>\n",
       "      <th>FORMAT_TIME</th>\n",
       "    </tr>\n",
       "  </thead>\n",
       "  <tbody>\n",
       "    <tr>\n",
       "      <th>1</th>\n",
       "      <td>2018/08/24 04:00:00+00</td>\n",
       "      <td>01:46 PM</td>\n",
       "      <td>7</td>\n",
       "      <td>METROPOLITAN POLICE DPT-DISTRICT 7</td>\n",
       "      <td>MPD-7D</td>\n",
       "      <td>P344</td>\n",
       "      <td>4205 4TH ST SE</td>\n",
       "      <td>250</td>\n",
       "      <td>250</td>\n",
       "      <td>38.829</td>\n",
       "      <td>-77.001</td>\n",
       "      <td>2018-08-24</td>\n",
       "      <td>13:46:00</td>\n",
       "    </tr>\n",
       "    <tr>\n",
       "      <th>9</th>\n",
       "      <td>2018/08/09 04:00:00+00</td>\n",
       "      <td>07:13 AM</td>\n",
       "      <td>25</td>\n",
       "      <td>SPECIAL OPERATION DIV &amp; TRAFFIC DIV</td>\n",
       "      <td>MPD-SOD</td>\n",
       "      <td>P014</td>\n",
       "      <td>700 F ST NW</td>\n",
       "      <td>0</td>\n",
       "      <td>0</td>\n",
       "      <td>38.897</td>\n",
       "      <td>-77.022</td>\n",
       "      <td>2018-08-09</td>\n",
       "      <td>07:13:00</td>\n",
       "    </tr>\n",
       "    <tr>\n",
       "      <th>14</th>\n",
       "      <td>2018/08/26 04:00:00+00</td>\n",
       "      <td>08:55 AM</td>\n",
       "      <td>59</td>\n",
       "      <td>US. BUREAU OF ENGRAVING AND PRINTNG</td>\n",
       "      <td>BEP</td>\n",
       "      <td>P170</td>\n",
       "      <td>1200 BLK D ST SW</td>\n",
       "      <td>100</td>\n",
       "      <td>100</td>\n",
       "      <td>38.885</td>\n",
       "      <td>-77.029</td>\n",
       "      <td>2018-08-26</td>\n",
       "      <td>08:55:00</td>\n",
       "    </tr>\n",
       "    <tr>\n",
       "      <th>20</th>\n",
       "      <td>2018/08/07 04:00:00+00</td>\n",
       "      <td>02:45 AM</td>\n",
       "      <td>2</td>\n",
       "      <td>METROPOLITAN POLICE DPT-DISTRICT 2</td>\n",
       "      <td>MPD-2D</td>\n",
       "      <td>P344</td>\n",
       "      <td>100 MICHIGAN AVE NE</td>\n",
       "      <td>250</td>\n",
       "      <td>250</td>\n",
       "      <td>38.927</td>\n",
       "      <td>-77.006</td>\n",
       "      <td>2018-08-07</td>\n",
       "      <td>02:45:00</td>\n",
       "    </tr>\n",
       "    <tr>\n",
       "      <th>21</th>\n",
       "      <td>2018/08/07 04:00:00+00</td>\n",
       "      <td>02:50 AM</td>\n",
       "      <td>2</td>\n",
       "      <td>METROPOLITAN POLICE DPT-DISTRICT 2</td>\n",
       "      <td>MPD-2D</td>\n",
       "      <td>P344</td>\n",
       "      <td>100 MICHIGAN AVE NE</td>\n",
       "      <td>250</td>\n",
       "      <td>500</td>\n",
       "      <td>38.927</td>\n",
       "      <td>-77.006</td>\n",
       "      <td>2018-08-07</td>\n",
       "      <td>02:50:00</td>\n",
       "    </tr>\n",
       "  </tbody>\n",
       "</table>\n",
       "</div>"
      ],
      "text/plain": [
       "                ISSUE_DATE ISSUE_TIME  ISSUING_AGENCY_CODE  \\\n",
       "1   2018/08/24 04:00:00+00   01:46 PM                    7   \n",
       "9   2018/08/09 04:00:00+00   07:13 AM                   25   \n",
       "14  2018/08/26 04:00:00+00   08:55 AM                   59   \n",
       "20  2018/08/07 04:00:00+00   02:45 AM                    2   \n",
       "21  2018/08/07 04:00:00+00   02:50 AM                    2   \n",
       "\n",
       "                    ISSUING_AGENCY_NAME ISSUING_AGENCY_SHORT VIOLATION_CODE  \\\n",
       "1    METROPOLITAN POLICE DPT-DISTRICT 7               MPD-7D           P344   \n",
       "9   SPECIAL OPERATION DIV & TRAFFIC DIV              MPD-SOD           P014   \n",
       "14  US. BUREAU OF ENGRAVING AND PRINTNG                  BEP           P170   \n",
       "20   METROPOLITAN POLICE DPT-DISTRICT 2               MPD-2D           P344   \n",
       "21   METROPOLITAN POLICE DPT-DISTRICT 2               MPD-2D           P344   \n",
       "\n",
       "               LOCATION  FINE_AMOUNT  TOTAL_PAID  LATITUDE  LONGITUDE  \\\n",
       "1        4205 4TH ST SE          250         250    38.829    -77.001   \n",
       "9           700 F ST NW            0           0    38.897    -77.022   \n",
       "14     1200 BLK D ST SW          100         100    38.885    -77.029   \n",
       "20  100 MICHIGAN AVE NE          250         250    38.927    -77.006   \n",
       "21  100 MICHIGAN AVE NE          250         500    38.927    -77.006   \n",
       "\n",
       "   FORMAT_DATE FORMAT_TIME  \n",
       "1   2018-08-24    13:46:00  \n",
       "9   2018-08-09    07:13:00  \n",
       "14  2018-08-26    08:55:00  \n",
       "20  2018-08-07    02:45:00  \n",
       "21  2018-08-07    02:50:00  "
      ]
     },
     "execution_count": 91,
     "metadata": {},
     "output_type": "execute_result"
    }
   ],
   "source": [
    "parking_violations.head()"
   ]
  },
  {
   "cell_type": "code",
   "execution_count": 92,
   "metadata": {},
   "outputs": [
    {
     "name": "stdout",
     "output_type": "stream",
     "text": [
      "<class 'pandas.core.frame.DataFrame'>\n",
      "Int64Index: 76888 entries, 1 to 136517\n",
      "Data columns (total 13 columns):\n",
      " #   Column                Non-Null Count  Dtype  \n",
      "---  ------                --------------  -----  \n",
      " 0   ISSUE_DATE            76888 non-null  object \n",
      " 1   ISSUE_TIME            76888 non-null  object \n",
      " 2   ISSUING_AGENCY_CODE   76888 non-null  int64  \n",
      " 3   ISSUING_AGENCY_NAME   76888 non-null  object \n",
      " 4   ISSUING_AGENCY_SHORT  76888 non-null  object \n",
      " 5   VIOLATION_CODE        76888 non-null  object \n",
      " 6   LOCATION              76888 non-null  object \n",
      " 7   FINE_AMOUNT           76888 non-null  int64  \n",
      " 8   TOTAL_PAID            76888 non-null  int64  \n",
      " 9   LATITUDE              76888 non-null  float64\n",
      " 10  LONGITUDE             76888 non-null  float64\n",
      " 11  FORMAT_DATE           76888 non-null  object \n",
      " 12  FORMAT_TIME           76888 non-null  object \n",
      "dtypes: float64(2), int64(3), object(8)\n",
      "memory usage: 8.2+ MB\n"
     ]
    }
   ],
   "source": [
    "parking_violations.info()"
   ]
  }
 ],
 "metadata": {
  "kernelspec": {
   "display_name": "Python 3",
   "language": "python",
   "name": "python3"
  },
  "language_info": {
   "codemirror_mode": {
    "name": "ipython",
    "version": 3
   },
   "file_extension": ".py",
   "mimetype": "text/x-python",
   "name": "python",
   "nbconvert_exporter": "python",
   "pygments_lexer": "ipython3",
   "version": "3.8.5"
  }
 },
 "nbformat": 4,
 "nbformat_minor": 4
}
