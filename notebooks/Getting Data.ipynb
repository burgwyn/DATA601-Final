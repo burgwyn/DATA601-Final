{
 "cells": [
  {
   "cell_type": "markdown",
   "metadata": {},
   "source": [
    "# Getting Data\n",
    "\n",
    "Data is retrieved from a RESTful API in the [Open Data DC](https://opendata.dc.gov/) data portal.  A POST request is sent to the search endpoint with the results parsed, stored into a dictionary with month and year as a key and the the url to the CSV data set as the value.\n",
    "\n",
    "```json\n",
    "{ \"October 2020\": \"https://opendata.arcgis.com/datasets/f3e9e7239fb54f19919a718307eefbbe_9.csv\" }\n",
    "```\n",
    "\n",
    "API operations: search, paging and parsing are in `/scripts/api.py`.  The data sets are saved to `/data/incoming/` for future cleaning."
   ]
  },
  {
   "cell_type": "markdown",
   "metadata": {},
   "source": [
    "## Sample Data Set\n",
    "\n",
    "The request below is used a simple means for retrieving one month's data for simple exploration and cleaning."
   ]
  },
  {
   "cell_type": "code",
   "execution_count": 2,
   "metadata": {},
   "outputs": [
    {
     "data": {
      "text/plain": [
       "('../data/sample/Parking_Violations_Issued_in_August_2018.csv',\n",
       " <http.client.HTTPMessage at 0x7f93983d7820>)"
      ]
     },
     "execution_count": 2,
     "metadata": {},
     "output_type": "execute_result"
    }
   ],
   "source": [
    "# request dataset from remote endpoint\n",
    "import urllib.request\n",
    "\n",
    "url = 'https://opendata.arcgis.com/datasets/ef6a77dd0bf6448ca8a8cb15f114b15e_7.csv'\n",
    "\n",
    "urllib.request.urlretrieve(url, '../data/sample/Parking_Violations_Issued_in_August_2018.csv')"
   ]
  }
 ],
 "metadata": {
  "kernelspec": {
   "display_name": "Python 3",
   "language": "python",
   "name": "python3"
  },
  "language_info": {
   "codemirror_mode": {
    "name": "ipython",
    "version": 3
   },
   "file_extension": ".py",
   "mimetype": "text/x-python",
   "name": "python",
   "nbconvert_exporter": "python",
   "pygments_lexer": "ipython3",
   "version": "3.8.3"
  }
 },
 "nbformat": 4,
 "nbformat_minor": 4
}
