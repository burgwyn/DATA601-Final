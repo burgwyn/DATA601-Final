{
 "cells": [
  {
   "cell_type": "markdown",
   "metadata": {},
   "source": [
    "# Models\n",
    "\n",
    "Modeling may take time to execute and is optionally available to execute from the command line.\n",
    "\n",
    "```bash\n",
    "python ./scripts/model.py\n",
    "```"
   ]
  },
  {
   "cell_type": "code",
   "execution_count": 1,
   "metadata": {},
   "outputs": [],
   "source": [
    "# %load -r 1-3 ../scripts/model.py\n",
    "# load pandas for data analysis\n",
    "import pandas as pd  # noqa E401\n",
    "import numpy as np"
   ]
  },
  {
   "cell_type": "code",
   "execution_count": 2,
   "metadata": {
    "jupyter": {
     "outputs_hidden": false
    },
    "pycharm": {
     "name": "#%%\n"
    }
   },
   "outputs": [],
   "source": [
    "# load dataset\n",
    "parking_violations = pd.read_csv('../data/final/all_cleaned.csv')"
   ]
  },
  {
   "cell_type": "code",
   "execution_count": 3,
   "metadata": {},
   "outputs": [
    {
     "data": {
      "text/html": [
       "<div>\n",
       "<style scoped>\n",
       "    .dataframe tbody tr th:only-of-type {\n",
       "        vertical-align: middle;\n",
       "    }\n",
       "\n",
       "    .dataframe tbody tr th {\n",
       "        vertical-align: top;\n",
       "    }\n",
       "\n",
       "    .dataframe thead th {\n",
       "        text-align: right;\n",
       "    }\n",
       "</style>\n",
       "<table border=\"1\" class=\"dataframe\">\n",
       "  <thead>\n",
       "    <tr style=\"text-align: right;\">\n",
       "      <th></th>\n",
       "      <th>ISSUE_DATE</th>\n",
       "      <th>ISSUE_TIME</th>\n",
       "      <th>ISSUING_AGENCY_CODE</th>\n",
       "      <th>ISSUING_AGENCY_SHORT</th>\n",
       "      <th>VIOLATION_CODE</th>\n",
       "      <th>DISPOSITION_CODE</th>\n",
       "      <th>FINE_AMOUNT</th>\n",
       "      <th>TOTAL_PAID</th>\n",
       "      <th>LATITUDE</th>\n",
       "      <th>LONGITUDE</th>\n",
       "      <th>FORMAT_DATE</th>\n",
       "      <th>DAY_OF_MONTH</th>\n",
       "      <th>MONTH</th>\n",
       "      <th>FORMAT_TIME</th>\n",
       "      <th>HOUR</th>\n",
       "      <th>DISPOSITION_RESULT</th>\n",
       "    </tr>\n",
       "  </thead>\n",
       "  <tbody>\n",
       "    <tr>\n",
       "      <th>0</th>\n",
       "      <td>2018/02/09 05:00:00+00</td>\n",
       "      <td>09:22 AM</td>\n",
       "      <td>28</td>\n",
       "      <td>MPD-CIC</td>\n",
       "      <td>P012</td>\n",
       "      <td>0</td>\n",
       "      <td>30</td>\n",
       "      <td>30</td>\n",
       "      <td>38.894</td>\n",
       "      <td>-77.019</td>\n",
       "      <td>2018-02-09 05:00:00+00:00</td>\n",
       "      <td>9</td>\n",
       "      <td>2</td>\n",
       "      <td>09:22:00</td>\n",
       "      <td>9</td>\n",
       "      <td>0</td>\n",
       "    </tr>\n",
       "    <tr>\n",
       "      <th>1</th>\n",
       "      <td>2018/02/09 05:00:00+00</td>\n",
       "      <td>09:24 AM</td>\n",
       "      <td>28</td>\n",
       "      <td>MPD-CIC</td>\n",
       "      <td>P012</td>\n",
       "      <td>75</td>\n",
       "      <td>30</td>\n",
       "      <td>0</td>\n",
       "      <td>38.894</td>\n",
       "      <td>-77.019</td>\n",
       "      <td>2018-02-09 05:00:00+00:00</td>\n",
       "      <td>9</td>\n",
       "      <td>2</td>\n",
       "      <td>09:24:00</td>\n",
       "      <td>9</td>\n",
       "      <td>1</td>\n",
       "    </tr>\n",
       "    <tr>\n",
       "      <th>2</th>\n",
       "      <td>2018/02/09 05:00:00+00</td>\n",
       "      <td>09:26 AM</td>\n",
       "      <td>28</td>\n",
       "      <td>MPD-CIC</td>\n",
       "      <td>P012</td>\n",
       "      <td>13</td>\n",
       "      <td>30</td>\n",
       "      <td>0</td>\n",
       "      <td>38.894</td>\n",
       "      <td>-77.019</td>\n",
       "      <td>2018-02-09 05:00:00+00:00</td>\n",
       "      <td>9</td>\n",
       "      <td>2</td>\n",
       "      <td>09:26:00</td>\n",
       "      <td>9</td>\n",
       "      <td>1</td>\n",
       "    </tr>\n",
       "    <tr>\n",
       "      <th>3</th>\n",
       "      <td>2018/02/09 05:00:00+00</td>\n",
       "      <td>09:43 AM</td>\n",
       "      <td>28</td>\n",
       "      <td>MPD-CIC</td>\n",
       "      <td>P012</td>\n",
       "      <td>13</td>\n",
       "      <td>30</td>\n",
       "      <td>0</td>\n",
       "      <td>38.894</td>\n",
       "      <td>-77.019</td>\n",
       "      <td>2018-02-09 05:00:00+00:00</td>\n",
       "      <td>9</td>\n",
       "      <td>2</td>\n",
       "      <td>09:43:00</td>\n",
       "      <td>9</td>\n",
       "      <td>1</td>\n",
       "    </tr>\n",
       "    <tr>\n",
       "      <th>4</th>\n",
       "      <td>2018/02/21 05:00:00+00</td>\n",
       "      <td>10:43 AM</td>\n",
       "      <td>28</td>\n",
       "      <td>MPD-CIC</td>\n",
       "      <td>P012</td>\n",
       "      <td>0</td>\n",
       "      <td>30</td>\n",
       "      <td>30</td>\n",
       "      <td>38.894</td>\n",
       "      <td>-77.019</td>\n",
       "      <td>2018-02-21 05:00:00+00:00</td>\n",
       "      <td>21</td>\n",
       "      <td>2</td>\n",
       "      <td>10:43:00</td>\n",
       "      <td>10</td>\n",
       "      <td>0</td>\n",
       "    </tr>\n",
       "  </tbody>\n",
       "</table>\n",
       "</div>"
      ],
      "text/plain": [
       "               ISSUE_DATE ISSUE_TIME  ISSUING_AGENCY_CODE  \\\n",
       "0  2018/02/09 05:00:00+00   09:22 AM                   28   \n",
       "1  2018/02/09 05:00:00+00   09:24 AM                   28   \n",
       "2  2018/02/09 05:00:00+00   09:26 AM                   28   \n",
       "3  2018/02/09 05:00:00+00   09:43 AM                   28   \n",
       "4  2018/02/21 05:00:00+00   10:43 AM                   28   \n",
       "\n",
       "  ISSUING_AGENCY_SHORT VIOLATION_CODE  DISPOSITION_CODE  FINE_AMOUNT  \\\n",
       "0              MPD-CIC           P012                 0           30   \n",
       "1              MPD-CIC           P012                75           30   \n",
       "2              MPD-CIC           P012                13           30   \n",
       "3              MPD-CIC           P012                13           30   \n",
       "4              MPD-CIC           P012                 0           30   \n",
       "\n",
       "   TOTAL_PAID  LATITUDE  LONGITUDE                FORMAT_DATE  DAY_OF_MONTH  \\\n",
       "0          30    38.894    -77.019  2018-02-09 05:00:00+00:00             9   \n",
       "1           0    38.894    -77.019  2018-02-09 05:00:00+00:00             9   \n",
       "2           0    38.894    -77.019  2018-02-09 05:00:00+00:00             9   \n",
       "3           0    38.894    -77.019  2018-02-09 05:00:00+00:00             9   \n",
       "4          30    38.894    -77.019  2018-02-21 05:00:00+00:00            21   \n",
       "\n",
       "   MONTH FORMAT_TIME  HOUR  DISPOSITION_RESULT  \n",
       "0      2    09:22:00     9                   0  \n",
       "1      2    09:24:00     9                   1  \n",
       "2      2    09:26:00     9                   1  \n",
       "3      2    09:43:00     9                   1  \n",
       "4      2    10:43:00    10                   0  "
      ]
     },
     "execution_count": 3,
     "metadata": {},
     "output_type": "execute_result"
    }
   ],
   "source": [
    "# head of dataset\n",
    "parking_violations.head()"
   ]
  },
  {
   "cell_type": "code",
   "execution_count": 4,
   "metadata": {},
   "outputs": [
    {
     "name": "stdout",
     "output_type": "stream",
     "text": [
      "<class 'pandas.core.frame.DataFrame'>\n",
      "RangeIndex: 1366755 entries, 0 to 1366754\n",
      "Data columns (total 16 columns):\n",
      " #   Column                Non-Null Count    Dtype  \n",
      "---  ------                --------------    -----  \n",
      " 0   ISSUE_DATE            1366755 non-null  object \n",
      " 1   ISSUE_TIME            1366755 non-null  object \n",
      " 2   ISSUING_AGENCY_CODE   1366755 non-null  int64  \n",
      " 3   ISSUING_AGENCY_SHORT  1366755 non-null  object \n",
      " 4   VIOLATION_CODE        1366755 non-null  object \n",
      " 5   DISPOSITION_CODE      1366755 non-null  int64  \n",
      " 6   FINE_AMOUNT           1366755 non-null  int64  \n",
      " 7   TOTAL_PAID            1366755 non-null  int64  \n",
      " 8   LATITUDE              1366755 non-null  float64\n",
      " 9   LONGITUDE             1366755 non-null  float64\n",
      " 10  FORMAT_DATE           1366755 non-null  object \n",
      " 11  DAY_OF_MONTH          1366755 non-null  int64  \n",
      " 12  MONTH                 1366755 non-null  int64  \n",
      " 13  FORMAT_TIME           1366755 non-null  object \n",
      " 14  HOUR                  1366755 non-null  int64  \n",
      " 15  DISPOSITION_RESULT    1366755 non-null  int64  \n",
      "dtypes: float64(2), int64(8), object(6)\n",
      "memory usage: 166.8+ MB\n"
     ]
    }
   ],
   "source": [
    "# dataset info\n",
    "parking_violations.info()"
   ]
  },
  {
   "cell_type": "code",
   "execution_count": 7,
   "metadata": {},
   "outputs": [],
   "source": [
    "# %load -r 7-18 ../scripts/model.py\n",
    "features = ['LATITUDE', 'LONGITUDE', 'MONTH', 'DAY_OF_MONTH', 'HOUR']\n",
    "\n",
    "# establish data for classification\n",
    "X = parking_violations[features]  # noqa F821\n",
    "y = parking_violations['DISPOSITION_RESULT']  # noqa F821\n",
    "\n",
    "from sklearn.preprocessing import StandardScaler  # noqa E402\n",
    "X = StandardScaler().fit_transform(X)\n",
    "\n",
    "from sklearn.model_selection import train_test_split  # noqa E402\n",
    "X_train, X_test, y_train, y_test =\\\n",
    "    train_test_split(X, y, test_size=0.2, random_state=42, stratify=y)"
   ]
  },
  {
   "cell_type": "code",
   "execution_count": 8,
   "metadata": {},
   "outputs": [
    {
     "name": "stdout",
     "output_type": "stream",
     "text": [
      "Score - Training: 0.609241\n",
      "Score - Test: 0.608972\n"
     ]
    }
   ],
   "source": [
    "# %load -r 20-26 ../scripts/model.py\n",
    "from sklearn.linear_model import LogisticRegression  # noqa E402\n",
    "\n",
    "log_reg = LogisticRegression(penalty='none', random_state=42)\n",
    "log_reg.fit(X_train, y_train)\n",
    "\n",
    "print('Score - Training: {:f}'.format(log_reg.score(X_train, y_train)))\n",
    "print('Score - Test: {:f}'.format(log_reg.score(X_test, y_test)))"
   ]
  },
  {
   "cell_type": "code",
   "execution_count": 7,
   "metadata": {},
   "outputs": [
    {
     "name": "stdout",
     "output_type": "stream",
     "text": [
      "Score - Training: 0.462122\n",
      "Score - Test: 0.461110\n"
     ]
    }
   ],
   "source": [
    "# %load -r 28-36 ../scripts/model.py\n",
    "from sklearn.linear_model import PassiveAggressiveClassifier  # noqa E402\n",
    "\n",
    "passive_aggressive_clf = PassiveAggressiveClassifier(random_state=42)\n",
    "passive_aggressive_clf.fit(X_train, y_train)\n",
    "\n",
    "print('Score - Training: {:f}'.format(passive_aggressive_clf.score(\n",
    "    X_train, y_train)))\n",
    "print('Score - Test: {:f}'.format(passive_aggressive_clf.score(\n",
    "    X_test, y_test)))"
   ]
  },
  {
   "cell_type": "code",
   "execution_count": 8,
   "metadata": {},
   "outputs": [
    {
     "name": "stdout",
     "output_type": "stream",
     "text": [
      "Score - Training: 0.843081\n",
      "Score - Test: 0.603513\n"
     ]
    }
   ],
   "source": [
    "# %load -r 38-44 ../scripts/model.py\n",
    "from sklearn.tree import DecisionTreeClassifier  # noqa E402\n",
    "\n",
    "tree_clf = DecisionTreeClassifier(random_state=42)\n",
    "tree_clf.fit(X_train, y_train)\n",
    "\n",
    "print('Score - Training: {:f}'.format(tree_clf.score(X_train, y_train)))\n",
    "print('Score - Test: {:f}'.format(tree_clf.score(X_test, y_test)))"
   ]
  },
  {
   "cell_type": "code",
   "execution_count": 9,
   "metadata": {},
   "outputs": [
    {
     "name": "stdout",
     "output_type": "stream",
     "text": [
      "Score - Training: 0.609316\n",
      "Score - Test: 0.609078\n"
     ]
    }
   ],
   "source": [
    "# %load -r 46-51 ../scripts/model.py\n",
    "from sklearn.linear_model import RidgeClassifier  # noqa E402\n",
    "\n",
    "ridge_clf = RidgeClassifier().fit(X_train, y_train)\n",
    "\n",
    "print('Score - Training: {:f}'.format(ridge_clf.score(X_train, y_train)))\n",
    "print('Score - Test: {:f}'.format(ridge_clf.score(X_test, y_test)))"
   ]
  },
  {
   "cell_type": "code",
   "execution_count": 10,
   "metadata": {},
   "outputs": [
    {
     "name": "stdout",
     "output_type": "stream",
     "text": [
      "Score - Training: 0.597416\n",
      "Score - Test: 0.926904\n"
     ]
    }
   ],
   "source": [
    "# %load -r 53-59 ../scripts/model.py\n",
    "from sklearn.ensemble import RandomForestClassifier  # noqa E402\n",
    "\n",
    "forest_clf = RandomForestClassifier(random_state=42)\n",
    "forest_clf.fit(X_test, y_test)\n",
    "\n",
    "print('Score - Training: {:f}'.format(forest_clf.score(X_train, y_train)))\n",
    "print('Score - Test: {:f}'.format(forest_clf.score(X_test, y_test)))"
   ]
  },
  {
   "cell_type": "code",
   "execution_count": 11,
   "metadata": {},
   "outputs": [
    {
     "name": "stdout",
     "output_type": "stream",
     "text": [
      "Score - Training: 0.615408\n",
      "Score - Test: 0.615531\n"
     ]
    }
   ],
   "source": [
    "# %load -r 61-67 ../scripts/model.py\n",
    "from sklearn.ensemble import AdaBoostClassifier  # noqa E402\n",
    "\n",
    "ada_clf = AdaBoostClassifier(random_state=42)\n",
    "ada_clf.fit(X_test, y_test)\n",
    "\n",
    "print('Score - Training: {:f}'.format(ada_clf.score(X_train, y_train)))\n",
    "print('Score - Test: {:f}'.format(ada_clf.score(X_test, y_test)))"
   ]
  },
  {
   "cell_type": "code",
   "execution_count": 12,
   "metadata": {},
   "outputs": [
    {
     "name": "stdout",
     "output_type": "stream",
     "text": [
      "Score - Training: 0.616754\n",
      "Score - Test: 0.617419\n"
     ]
    }
   ],
   "source": [
    "# %load -r 69-75 ../scripts/model.py\n",
    "from sklearn.neural_network import MLPClassifier  # noqa E402\n",
    "\n",
    "mlp_clf = MLPClassifier(random_state=42)\n",
    "mlp_clf.fit(X_test, y_test)\n",
    "\n",
    "print('Score - Training: {:f}'.format(mlp_clf.score(X_train, y_train)))\n",
    "print('Score - Test: {:f}'.format(mlp_clf.score(X_test, y_test)))"
   ]
  },
  {
   "cell_type": "code",
   "execution_count": 13,
   "metadata": {},
   "outputs": [],
   "source": [
    "# %load -r 12-15 ../scripts/utils.py\n",
    "def display_scores(name, scores):\n",
    "    print(name)\n",
    "    print('Mean:', scores.mean())\n",
    "    print('Standard deviation:', scores.std())"
   ]
  },
  {
   "cell_type": "code",
   "execution_count": 14,
   "metadata": {},
   "outputs": [],
   "source": [
    "# %load -r 78 ../scripts/model.py\n",
    "from sklearn.model_selection import cross_val_score  # noqa E402"
   ]
  },
  {
   "cell_type": "code",
   "execution_count": 15,
   "metadata": {},
   "outputs": [
    {
     "name": "stdout",
     "output_type": "stream",
     "text": [
      "Logistic Regression\n",
      "Mean: 0.6252493107442061\n",
      "Standard deviation: 0.000978938868035884\n",
      "Passive Aggressive\n",
      "Mean: 0.6534917702559954\n",
      "Standard deviation: 0.009340231457350313\n",
      "Decision Tree\n",
      "Mean: 0.6671820648102167\n",
      "Standard deviation: 0.00339353095454288\n",
      "Ridge\n",
      "Mean: 0.6251438968653231\n",
      "Standard deviation: 0.0010335930615780144\n"
     ]
    }
   ],
   "source": [
    "# %load -r 80-99 ../scripts/model.py\n",
    "log_reg_scores = cross_val_score(log_reg, X, y,\n",
    "                                 scoring=\"neg_mean_squared_error\")\n",
    "log_reg_rmse_scores = np.sqrt(-log_reg_scores)\n",
    "display_scores('Logistic Regression', log_reg_rmse_scores)\n",
    "\n",
    "passive_aggressive_clf_scores =\\\n",
    "    cross_val_score(passive_aggressive_clf, X, y,\n",
    "                    scoring=\"neg_mean_squared_error\")\n",
    "passive_aggressive_clf_rmse_scores = np.sqrt(-passive_aggressive_clf_scores)\n",
    "display_scores('Passive Aggressive', passive_aggressive_clf_rmse_scores)\n",
    "\n",
    "tree_clf_scores = cross_val_score(tree_clf, X, y,\n",
    "                                  scoring=\"neg_mean_squared_error\")\n",
    "tree_clf_rmse_scores = np.sqrt(-tree_clf_scores)\n",
    "display_scores('Decision Tree', tree_clf_rmse_scores)\n",
    "\n",
    "ridge_clf_scores = cross_val_score(ridge_clf, X, y,\n",
    "                                   scoring=\"neg_mean_squared_error\")\n",
    "ridge_clf_rmse_scores = np.sqrt(-ridge_clf_scores)\n",
    "display_scores('Ridge', ridge_clf_rmse_scores)"
   ]
  },
  {
   "cell_type": "code",
   "execution_count": 26,
   "metadata": {},
   "outputs": [
    {
     "name": "stdout",
     "output_type": "stream",
     "text": [
      "Forest\n",
      "Mean: 0.6433891489073945\n",
      "Standard deviation: 0.006187039807018061\n"
     ]
    }
   ],
   "source": [
    "# %load -r 101-104 ../scripts/model.py\n",
    "forest_clf_scores = cross_val_score(forest_clf, X, y,\n",
    "                                    scoring=\"neg_mean_squared_error\")\n",
    "forest_clf_rmse_scores = np.sqrt(-forest_clf_scores)\n",
    "display_scores('Forest', forest_clf_rmse_scores)"
   ]
  },
  {
   "cell_type": "code",
   "execution_count": 17,
   "metadata": {},
   "outputs": [
    {
     "name": "stdout",
     "output_type": "stream",
     "text": [
      "AdaBoost\n",
      "Mean: 0.6210365172593049\n",
      "Standard deviation: 0.0027378322442304787\n"
     ]
    }
   ],
   "source": [
    "# %load -r 106-109 ../scripts/model.py\n",
    "ada_clf_scores = cross_val_score(ada_clf, X, y,\n",
    "                                 scoring=\"neg_mean_squared_error\")\n",
    "ada_clf_rmse_scores = np.sqrt(-ada_clf_scores)\n",
    "display_scores('AdaBoost', ada_clf_rmse_scores)"
   ]
  },
  {
   "cell_type": "code",
   "execution_count": 25,
   "metadata": {},
   "outputs": [
    {
     "name": "stdout",
     "output_type": "stream",
     "text": [
      "MLP\n",
      "Mean: 0.6214307642400999\n",
      "Standard deviation: 0.0031723727714660322\n"
     ]
    }
   ],
   "source": [
    "# %load -r 111-114 ../scripts/model.py\n",
    "mlp_clf_scores = cross_val_score(mlp_clf, X, y,\n",
    "                                 scoring=\"neg_mean_squared_error\")\n",
    "mpl_clf_rmse_scores = np.sqrt(-mlp_clf_scores)\n",
    "display_scores('MLP', mpl_clf_rmse_scores)"
   ]
  },
  {
   "cell_type": "code",
   "execution_count": 9,
   "metadata": {
    "scrolled": false
   },
   "outputs": [
    {
     "name": "stdout",
     "output_type": "stream",
     "text": [
      "Best parameters {'C': 10.0, 'penalty': 'none', 'solver': 'saga'}\n",
      "Best score -0.39076315813283885\n"
     ]
    }
   ],
   "source": [
    "# %load -r 120-133 ../scripts/model.py\n",
    "from sklearn.model_selection import GridSearchCV  # noqa E402\n",
    "\n",
    "# ignore warnings\n",
    "import warnings\n",
    "warnings.filterwarnings('ignore')\n",
    "\n",
    "param_grid = {'C': np.logspace(-3, 3, 7),\n",
    "              'penalty': ['l2', 'none'],\n",
    "              'solver': ['newton-cg', 'lbfgs', 'sag', 'saga']}\n",
    "\n",
    "grid_search = GridSearchCV(LogisticRegression(),\n",
    "                           param_grid,\n",
    "                           scoring='neg_mean_squared_error',\n",
    "                           return_train_score=True)\n",
    "grid_search.fit(X_train, y_train)\n",
    "\n",
    "print('Best parameters', grid_search.best_params_)\n",
    "print('Best score', grid_search.best_score_)"
   ]
  },
  {
   "cell_type": "code",
   "execution_count": 10,
   "metadata": {},
   "outputs": [
    {
     "name": "stdout",
     "output_type": "stream",
     "text": [
      "Final score 0.6253167742436414\n"
     ]
    }
   ],
   "source": [
    "# %load -r 135-143 ../scripts/model.py\n",
    "from sklearn.metrics import mean_squared_error  # noqa E402\n",
    "\n",
    "final_model = grid_search.best_estimator_\n",
    "\n",
    "final_predictions = final_model.predict(X_test)\n",
    "\n",
    "final_mse = mean_squared_error(y_test, final_predictions)\n",
    "final_rmse = np.sqrt(final_mse)\n",
    "print('Final score', final_rmse)"
   ]
  },
  {
   "cell_type": "code",
   "execution_count": 14,
   "metadata": {},
   "outputs": [
    {
     "data": {
      "text/plain": [
       "['../data/final/final_model.pkl']"
      ]
     },
     "execution_count": 14,
     "metadata": {},
     "output_type": "execute_result"
    }
   ],
   "source": [
    "# pickle the model\n",
    "import joblib  # noqa E402\n",
    "\n",
    "joblib.dump(grid_search.best_estimator_, '../data/final/final_model.pkl')"
   ]
  }
 ],
 "metadata": {
  "kernelspec": {
   "display_name": "Python 3",
   "language": "python",
   "name": "python3"
  },
  "language_info": {
   "codemirror_mode": {
    "name": "ipython",
    "version": 3
   },
   "file_extension": ".py",
   "mimetype": "text/x-python",
   "name": "python",
   "nbconvert_exporter": "python",
   "pygments_lexer": "ipython3",
   "version": "3.8.3"
  }
 },
 "nbformat": 4,
 "nbformat_minor": 4
}
